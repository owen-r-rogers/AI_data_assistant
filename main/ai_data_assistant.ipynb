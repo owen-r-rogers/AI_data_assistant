{
 "cells": [
  {
   "cell_type": "code",
   "id": "initial_id",
   "metadata": {
    "collapsed": true,
    "ExecuteTime": {
     "end_time": "2025-04-28T14:54:30.999419Z",
     "start_time": "2025-04-28T14:54:29.128134Z"
    }
   },
   "source": "from utils.data_assistant import *",
   "outputs": [
    {
     "name": "stderr",
     "output_type": "stream",
     "text": [
      "2025-04-28 10:54:30.996 WARNING streamlit.runtime.caching.cache_data_api: No runtime found, using MemoryCacheStorageManager\n"
     ]
    }
   ],
   "execution_count": 1
  },
  {
   "metadata": {},
   "cell_type": "markdown",
   "source": [
    "### Get the accession number using openAI\n",
    "\n",
    "---"
   ],
   "id": "c9a547b712be050c"
  },
  {
   "metadata": {
    "ExecuteTime": {
     "end_time": "2025-04-28T14:54:42.181941Z",
     "start_time": "2025-04-28T14:54:33.081026Z"
    }
   },
   "cell_type": "code",
   "source": [
    "accession = get_accession('You are an expert in the NCBI accession number formatting.',\n",
    "                          'What is the NCBI accession number for the nucleotide sequence of the ACE2 receptor in humans?')"
   ],
   "id": "3bf03178db1a799",
   "outputs": [
    {
     "name": "stderr",
     "output_type": "stream",
     "text": [
      "2025-04-28 10:54:33.083 WARNING streamlit.runtime.caching.cache_data_api: No runtime found, using MemoryCacheStorageManager\n",
      "2025-04-28 10:54:33.084 WARNING streamlit.runtime.scriptrunner_utils.script_run_context: Thread 'MainThread': missing ScriptRunContext! This warning can be ignored when running in bare mode.\n",
      "2025-04-28 10:54:33.192 \n",
      "  \u001B[33m\u001B[1mWarning:\u001B[0m to view this Streamlit app on a browser, run it with the following\n",
      "  command:\n",
      "\n",
      "    streamlit run /Users/owenrogers/anaconda3/envs/QAC387/lib/python3.11/site-packages/ipykernel_launcher.py [ARGUMENTS]\n",
      "2025-04-28 10:54:33.193 Thread 'MainThread': missing ScriptRunContext! This warning can be ignored when running in bare mode.\n",
      "2025-04-28 10:54:33.193 Thread 'MainThread': missing ScriptRunContext! This warning can be ignored when running in bare mode.\n",
      "2025-04-28 10:54:33.699 Thread 'Thread-5': missing ScriptRunContext! This warning can be ignored when running in bare mode.\n",
      "2025-04-28 10:54:33.704 Thread 'Thread-5': missing ScriptRunContext! This warning can be ignored when running in bare mode.\n",
      "2025-04-28 10:54:42.176 Thread 'MainThread': missing ScriptRunContext! This warning can be ignored when running in bare mode.\n",
      "2025-04-28 10:54:42.178 Thread 'MainThread': missing ScriptRunContext! This warning can be ignored when running in bare mode.\n"
     ]
    }
   ],
   "execution_count": 2
  },
  {
   "metadata": {},
   "cell_type": "markdown",
   "source": "#### Print accession number to make sure that it looks valid",
   "id": "2e3aaa5b95d7e5f3"
  },
  {
   "metadata": {
    "ExecuteTime": {
     "end_time": "2025-04-28T14:54:47.594505Z",
     "start_time": "2025-04-28T14:54:47.589289Z"
    }
   },
   "cell_type": "code",
   "source": "print(accession)",
   "id": "89d323e1ee50db01",
   "outputs": [
    {
     "name": "stdout",
     "output_type": "stream",
     "text": [
      "NM_021804.3\n"
     ]
    }
   ],
   "execution_count": 3
  },
  {
   "metadata": {},
   "cell_type": "markdown",
   "source": [
    "### Get the SeqRecord object based on that accession number\n",
    "\n",
    "---"
   ],
   "id": "e37956d1d7bc0fc9"
  },
  {
   "metadata": {
    "ExecuteTime": {
     "end_time": "2025-04-28T14:54:50.704099Z",
     "start_time": "2025-04-28T14:54:50.114165Z"
    }
   },
   "cell_type": "code",
   "source": "record, _ = fetch_sequence(accession, email='orogers@wesleyan.edu')",
   "id": "d1a543a84fd9beb7",
   "outputs": [
    {
     "name": "stdout",
     "output_type": "stream",
     "text": [
      "The sequence in GB format for ID NM_021804.3:\n",
      "GGCACTCATACATACACTCTGGCAATGAGGACACTGAGCTCGCTTCTGAA\n",
      "\n",
      "Homo sapiens angiotensin converting enzyme 2 (ACE2), transcript variant 2, mRNA\n"
     ]
    }
   ],
   "execution_count": 4
  },
  {
   "metadata": {
    "ExecuteTime": {
     "end_time": "2025-04-28T14:54:51.811369Z",
     "start_time": "2025-04-28T14:54:51.808242Z"
    }
   },
   "cell_type": "code",
   "source": "sequence = record.seq",
   "id": "6070706a3710d056",
   "outputs": [],
   "execution_count": 5
  },
  {
   "metadata": {
    "ExecuteTime": {
     "end_time": "2025-04-28T14:54:57.456336Z",
     "start_time": "2025-04-28T14:54:57.442442Z"
    }
   },
   "cell_type": "code",
   "source": "sequence",
   "id": "8606b26e4ee5b471",
   "outputs": [
    {
     "data": {
      "text/plain": [
       "Seq('GGCACTCATACATACACTCTGGCAATGAGGACACTGAGCTCGCTTCTGAAATTT...CTC')"
      ]
     },
     "execution_count": 6,
     "metadata": {},
     "output_type": "execute_result"
    }
   ],
   "execution_count": 6
  },
  {
   "metadata": {},
   "cell_type": "markdown",
   "source": [
    "### Perform a Nucleotide BLAST\n",
    "\n",
    "---"
   ],
   "id": "579b356bfb01718c"
  },
  {
   "metadata": {
    "ExecuteTime": {
     "end_time": "2025-04-28T14:56:01.813129Z",
     "start_time": "2025-04-28T14:55:00.933344Z"
    }
   },
   "cell_type": "code",
   "source": "handle = nucleotide_blast(sequence)",
   "id": "691364de93054425",
   "outputs": [],
   "execution_count": 7
  },
  {
   "metadata": {},
   "cell_type": "markdown",
   "source": "#### Process the results handle",
   "id": "d120f83726fd6be8"
  },
  {
   "metadata": {
    "ExecuteTime": {
     "end_time": "2025-04-28T15:04:10.674005Z",
     "start_time": "2025-04-28T15:04:10.618551Z"
    }
   },
   "cell_type": "code",
   "source": "processed_stream = process_stream(handle, save=True, save_name='ACE2_28Apr')",
   "id": "e93155836398e353",
   "outputs": [],
   "execution_count": 8
  },
  {
   "metadata": {
    "ExecuteTime": {
     "end_time": "2025-04-28T15:04:11.737873Z",
     "start_time": "2025-04-28T15:04:11.727616Z"
    }
   },
   "cell_type": "code",
   "source": "print(processed_stream)",
   "id": "3939a14ed07ffcc2",
   "outputs": [
    {
     "name": "stdout",
     "output_type": "stream",
     "text": [
      "                                                title  length  e_value  \\\n",
      "0   gi|1700998533|ref|NM_021804.3| Homo sapiens an...    3596      0.0   \n",
      "1   gi|66863987|dbj|AB193259.1| Homo sapiens ace2 ...    3605      0.0   \n",
      "2   gi|2493543526|ref|XM_055376642.1| PREDICTED: G...    3596      0.0   \n",
      "3   gi|2694562693|ref|XM_063634561.1| PREDICTED: S...    3597      0.0   \n",
      "4   gi|1743233336|ref|XM_003261084.3| PREDICTED: N...    3593      0.0   \n",
      "5   gi|66863989|dbj|AB193260.1| Homo sapiens ace2 ...    3470      0.0   \n",
      "6   gi|8650465|gb|AF241254.1|AF241254 Homo sapiens...    3405      0.0   \n",
      "7   gi|2490809741|ref|XM_008974180.3| PREDICTED: P...    6570      0.0   \n",
      "8   gi|1700998531|ref|NM_001371415.1| Homo sapiens...    3339      0.0   \n",
      "9   gi|37747876|gb|BC059378.1| Homo sapiens cDNA c...    3375      0.0   \n",
      "10  gi|2697861032|ref|XM_016942979.3| PREDICTED: P...    3540      0.0   \n",
      "11  gi|2695108862|ref|XM_063702989.1| PREDICTED: G...    3477      0.0   \n",
      "12  gi|2695108865|ref|XM_019019204.3| PREDICTED: G...    3522      0.0   \n",
      "13  gi|2493543521|ref|XM_055376641.1| PREDICTED: G...    3577      0.0   \n",
      "14  gi|28839033|gb|BC048144.1| Homo sapiens angiot...    3339      0.0   \n",
      "15  gi|9802432|gb|AF291820.1|AF291820 Homo sapiens...    3325      0.0   \n",
      "16  gi|21432080|gb|BC032938.1| Homo sapiens cDNA c...    3337      0.0   \n",
      "17  gi|1411182783|ref|XM_025372062.1| PREDICTED: T...    3592      0.0   \n",
      "18  gi|25140225|gb|BC039902.1| Homo sapiens angiot...    3348      0.0   \n",
      "19  gi|1788698877|ref|XM_023199053.2| PREDICTED: P...    3595      0.0   \n",
      "20  gi|1751287630|ref|XM_010366065.2| PREDICTED: R...    3590      0.0   \n",
      "21  gi|1622969054|ref|XM_015126958.2| PREDICTED: M...    3661      0.0   \n",
      "22  gi|795225765|ref|XM_011995533.1| PREDICTED: Ma...    3592      0.0   \n",
      "23  gi|795472177|ref|XM_012035808.1| PREDICTED: Ce...    3587      0.0   \n",
      "24  gi|2309511222|ref|XM_050777627.1| PREDICTED: M...    3616      0.0   \n",
      "25  gi|5817159|emb|AL110224.1| Homo sapiens mRNA; ...    3341      0.0   \n",
      "26  gi|2552960217|ref|XM_058441404.1| PREDICTED: H...    3523      0.0   \n",
      "27  gi|2464223790|ref|XM_054543949.1| PREDICTED: P...    3770      0.0   \n",
      "28  gi|2463528935|ref|XM_054471966.1| PREDICTED: P...    3395      0.0   \n",
      "29  gi|1825945345|ref|XM_033200918.1| PREDICTED: T...    3557      0.0   \n",
      "30  gi|1220240516|ref|XM_021933040.1| PREDICTED: P...    3650      0.0   \n",
      "31  gi|795472182|ref|XM_012035809.1| PREDICTED: Ce...    3625      0.0   \n",
      "32  gi|2898873287|ref|XM_011735203.3| PREDICTED: M...    4791      0.0   \n",
      "33  gi|402767149|ref|NM_001131132.2| Pongo abelii ...    3668      0.0   \n",
      "34  gi|55725117|emb|CR857122.1| Pongo abelii mRNA;...    3669      0.0   \n",
      "35  gi|1777353679|ref|XM_021933041.2| PREDICTED: P...    3487      0.0   \n",
      "36  gi|795472188|ref|XM_012035810.1| PREDICTED: Ce...    3414      0.0   \n",
      "37  gi|795472194|ref|XM_012035811.1| PREDICTED: Ce...    3535      0.0   \n",
      "38  gi|2898873288|ref|XM_011735204.3| PREDICTED: M...    4701      0.0   \n",
      "39  gi|2309511224|ref|XM_050777628.1| PREDICTED: M...    3427      0.0   \n",
      "40  gi|2954819339|ref|XM_037986357.2| PREDICTED: C...    3422      0.0   \n",
      "41  gi|2739348940|ref|XM_005593037.4| PREDICTED: M...    3338      0.0   \n",
      "42  gi|1622969056|ref|XM_028841825.1| PREDICTED: M...    3565      0.0   \n",
      "43  gi|2309511226|ref|XM_050777629.1| PREDICTED: M...    3519      0.0   \n",
      "44  gi|1984069662|ref|XM_010336623.2| PREDICTED: S...    3455      0.0   \n",
      "45  gi|1804372246|ref|XM_032285963.1| PREDICTED: S...    3451      0.0   \n",
      "46  gi|1934007973|ref|XM_017512376.2| PREDICTED: C...    3415      0.0   \n",
      "47  gi|2715661566|ref|XM_012434682.3| PREDICTED: A...    3496      0.0   \n",
      "48  gi|1059175446|ref|XM_017888581.1| PREDICTED: R...    3093      0.0   \n",
      "49  gi|1059175444|ref|XM_017888580.1| PREDICTED: R...    3090      0.0   \n",
      "\n",
      "     score  query_start  query_end  \n",
      "0   7192.0            1       3596  \n",
      "1   7186.0            4       3596  \n",
      "2   7047.0            1       3596  \n",
      "3   6860.0            1       3596  \n",
      "4   6860.0            1       3596  \n",
      "5   6790.0          202       3596  \n",
      "6   6786.0          204       3596  \n",
      "7   6686.0          202       3596  \n",
      "8   6678.0          258       3596  \n",
      "9   6669.0          258       3594  \n",
      "10  6657.0          202       3596  \n",
      "11  6655.0          202       3596  \n",
      "12  6655.0          202       3596  \n",
      "13  6654.0          200       3596  \n",
      "14  6634.0          273       3596  \n",
      "15  6620.0          287       3596  \n",
      "16  6614.0          273       3591  \n",
      "17  6612.0            4       3596  \n",
      "18  6610.0          289       3593  \n",
      "19  6603.0            1       3596  \n",
      "20  6578.0            1       3596  \n",
      "21  6573.0            1       3596  \n",
      "22  6572.0            4       3596  \n",
      "23  6572.0            9       3596  \n",
      "24  6563.0            1       3596  \n",
      "25  6561.0          309       3591  \n",
      "26  6505.0          202       3596  \n",
      "27  6501.0          202       3596  \n",
      "28  6490.0          205       3596  \n",
      "29  6466.0           34       3596  \n",
      "30  6429.0          113       3596  \n",
      "31  6399.0          113       3596  \n",
      "32  6389.0          113       3596  \n",
      "33  6379.0          258       3596  \n",
      "34  6379.0          258       3596  \n",
      "35  6271.0          202       3596  \n",
      "36  6241.0          202       3596  \n",
      "37  6240.0          205       3596  \n",
      "38  6240.0          205       3596  \n",
      "39  6226.0          202       3596  \n",
      "40  6196.0          202       3596  \n",
      "41  6134.0          258       3596  \n",
      "42  6047.0          299       3596  \n",
      "43  6042.0          299       3596  \n",
      "44  5740.0          202       3589  \n",
      "45  5739.0          202       3589  \n",
      "46  5715.0          202       3589  \n",
      "47  5672.0          202       3596  \n",
      "48  5649.0          498       3596  \n",
      "49  5622.0          498       3596  \n"
     ]
    }
   ],
   "execution_count": 9
  },
  {
   "metadata": {
    "ExecuteTime": {
     "end_time": "2025-04-28T15:04:14.407496Z",
     "start_time": "2025-04-28T15:04:14.402747Z"
    }
   },
   "cell_type": "code",
   "source": "processed_stream['title'] = processed_stream['title'].apply(lambda x: x.split('|')[3])",
   "id": "8087949f7d0e1419",
   "outputs": [],
   "execution_count": 10
  },
  {
   "metadata": {
    "ExecuteTime": {
     "end_time": "2025-04-28T15:04:15.234763Z",
     "start_time": "2025-04-28T15:04:15.224264Z"
    }
   },
   "cell_type": "code",
   "source": "print(processed_stream)",
   "id": "30cba955b08f5c7d",
   "outputs": [
    {
     "name": "stdout",
     "output_type": "stream",
     "text": [
      "             title  length  e_value   score  query_start  query_end\n",
      "0      NM_021804.3    3596      0.0  7192.0            1       3596\n",
      "1       AB193259.1    3605      0.0  7186.0            4       3596\n",
      "2   XM_055376642.1    3596      0.0  7047.0            1       3596\n",
      "3   XM_063634561.1    3597      0.0  6860.0            1       3596\n",
      "4   XM_003261084.3    3593      0.0  6860.0            1       3596\n",
      "5       AB193260.1    3470      0.0  6790.0          202       3596\n",
      "6       AF241254.1    3405      0.0  6786.0          204       3596\n",
      "7   XM_008974180.3    6570      0.0  6686.0          202       3596\n",
      "8   NM_001371415.1    3339      0.0  6678.0          258       3596\n",
      "9       BC059378.1    3375      0.0  6669.0          258       3594\n",
      "10  XM_016942979.3    3540      0.0  6657.0          202       3596\n",
      "11  XM_063702989.1    3477      0.0  6655.0          202       3596\n",
      "12  XM_019019204.3    3522      0.0  6655.0          202       3596\n",
      "13  XM_055376641.1    3577      0.0  6654.0          200       3596\n",
      "14      BC048144.1    3339      0.0  6634.0          273       3596\n",
      "15      AF291820.1    3325      0.0  6620.0          287       3596\n",
      "16      BC032938.1    3337      0.0  6614.0          273       3591\n",
      "17  XM_025372062.1    3592      0.0  6612.0            4       3596\n",
      "18      BC039902.1    3348      0.0  6610.0          289       3593\n",
      "19  XM_023199053.2    3595      0.0  6603.0            1       3596\n",
      "20  XM_010366065.2    3590      0.0  6578.0            1       3596\n",
      "21  XM_015126958.2    3661      0.0  6573.0            1       3596\n",
      "22  XM_011995533.1    3592      0.0  6572.0            4       3596\n",
      "23  XM_012035808.1    3587      0.0  6572.0            9       3596\n",
      "24  XM_050777627.1    3616      0.0  6563.0            1       3596\n",
      "25      AL110224.1    3341      0.0  6561.0          309       3591\n",
      "26  XM_058441404.1    3523      0.0  6505.0          202       3596\n",
      "27  XM_054543949.1    3770      0.0  6501.0          202       3596\n",
      "28  XM_054471966.1    3395      0.0  6490.0          205       3596\n",
      "29  XM_033200918.1    3557      0.0  6466.0           34       3596\n",
      "30  XM_021933040.1    3650      0.0  6429.0          113       3596\n",
      "31  XM_012035809.1    3625      0.0  6399.0          113       3596\n",
      "32  XM_011735203.3    4791      0.0  6389.0          113       3596\n",
      "33  NM_001131132.2    3668      0.0  6379.0          258       3596\n",
      "34      CR857122.1    3669      0.0  6379.0          258       3596\n",
      "35  XM_021933041.2    3487      0.0  6271.0          202       3596\n",
      "36  XM_012035810.1    3414      0.0  6241.0          202       3596\n",
      "37  XM_012035811.1    3535      0.0  6240.0          205       3596\n",
      "38  XM_011735204.3    4701      0.0  6240.0          205       3596\n",
      "39  XM_050777628.1    3427      0.0  6226.0          202       3596\n",
      "40  XM_037986357.2    3422      0.0  6196.0          202       3596\n",
      "41  XM_005593037.4    3338      0.0  6134.0          258       3596\n",
      "42  XM_028841825.1    3565      0.0  6047.0          299       3596\n",
      "43  XM_050777629.1    3519      0.0  6042.0          299       3596\n",
      "44  XM_010336623.2    3455      0.0  5740.0          202       3589\n",
      "45  XM_032285963.1    3451      0.0  5739.0          202       3589\n",
      "46  XM_017512376.2    3415      0.0  5715.0          202       3589\n",
      "47  XM_012434682.3    3496      0.0  5672.0          202       3596\n",
      "48  XM_017888581.1    3093      0.0  5649.0          498       3596\n",
      "49  XM_017888580.1    3090      0.0  5622.0          498       3596\n"
     ]
    }
   ],
   "execution_count": 11
  },
  {
   "metadata": {},
   "cell_type": "markdown",
   "source": "### Create and fill a dictionary storing accession numbers, sequence, and summary for clustering",
   "id": "940c7511e3f23a48"
  },
  {
   "metadata": {
    "ExecuteTime": {
     "end_time": "2025-04-28T15:05:05.780050Z",
     "start_time": "2025-04-28T15:04:44.860985Z"
    }
   },
   "cell_type": "code",
   "source": [
    "blast_accessions = {'title': [],\n",
    "                    'sequence': [],\n",
    "                    'summary': []}\n",
    "\n",
    "for record in processed_stream['title']:\n",
    "    \n",
    "    blast_accessions['title'].append(record)\n",
    "    \n",
    "    rec, _ = fetch_sequence(record, email='orogers@wesleyan.edu')\n",
    "    blast_accessions['sequence'].append(rec.seq)\n",
    "    \n",
    "    try:\n",
    "        \n",
    "        blast_accessions['summary'].append(rec.annotations['comment'])\n",
    "        \n",
    "    except:\n",
    "        \n",
    "        print(f'Accession number {record} does not have a summary')\n",
    "        blast_accessions['summary'].append(f'There is no summary provided for this accession number')\n",
    "    "
   ],
   "id": "8cc5b2e77e90acdd",
   "outputs": [
    {
     "name": "stdout",
     "output_type": "stream",
     "text": [
      "The sequence in GB format for ID NM_021804.3:\n",
      "GGCACTCATACATACACTCTGGCAATGAGGACACTGAGCTCGCTTCTGAA\n",
      "\n",
      "Homo sapiens angiotensin converting enzyme 2 (ACE2), transcript variant 2, mRNA\n",
      "The sequence in GB format for ID AB193259.1:\n",
      "ACTCATACATACACTCTGGCAATGAGGACACTGAGCTCGCTTCTGAAATT\n",
      "\n",
      "Homo sapiens ace2 mRNA for angiotensin-converting enzyme 2, complete cds, tissue_type: lung\n",
      "Accession number AB193259.1 does not have a summary\n",
      "The sequence in GB format for ID XM_055376642.1:\n",
      "GGCACTCATACATACACTCTGGCAATGAGAACACTGAGCTCGCTTCTGAA\n",
      "\n",
      "PREDICTED: Gorilla gorilla gorilla angiotensin converting enzyme 2 (ACE2), transcript variant X4, mRNA\n",
      "The sequence in GB format for ID XM_063634561.1:\n",
      "GGCACTCATACATACACTCTGGCAGTGAGGACACTGAGCTCGCTTCTGAA\n",
      "\n",
      "PREDICTED: Symphalangus syndactylus angiotensin converting enzyme 2 (ACE2), transcript variant X1, mRNA\n",
      "The sequence in GB format for ID XM_003261084.3:\n",
      "GGCACTCATACATACACTCTGGCAGTGAGGACACTGAGCTCGCTTCTGAA\n",
      "\n",
      "PREDICTED: Nomascus leucogenys angiotensin I converting enzyme 2 (ACE2), mRNA\n",
      "The sequence in GB format for ID AB193260.1:\n",
      "TATTGGCTCAGCAGATTGTTTACTGTGTTCTTCTTCTTTTTCTTTTTTTG\n",
      "\n",
      "Homo sapiens ace2 mRNA for angiotensin-converting enzyme 2, complete cds, tissue_type: testis\n",
      "Accession number AB193260.1 does not have a summary\n",
      "The sequence in GB format for ID AF241254.1:\n",
      "CGCCCAACCCAAGTTCAAAGGCTGATAAGAGAGAAAATCTCATGAGGAGG\n",
      "\n",
      "Homo sapiens angiotensin converting enzyme-like protein mRNA, complete cds\n",
      "Accession number AF241254.1 does not have a summary\n",
      "The sequence in GB format for ID XM_008974180.3:\n",
      "ACTGTGTTCTTCTTCTTTTTCTTTTTTTGGTCTTTCCTGCTCAGCGCCCA\n",
      "\n",
      "PREDICTED: Pan paniscus angiotensin converting enzyme 2 (ACE2), mRNA\n",
      "The sequence in GB format for ID NM_001371415.1:\n",
      "AGTCTAGGGAAAGTCATTCAGTGGATGTGATCTTGGCTCACAGGGGACGA\n",
      "\n",
      "Homo sapiens angiotensin converting enzyme 2 (ACE2), transcript variant 1, mRNA\n",
      "The sequence in GB format for ID BC059378.1:\n",
      "AGTCTAGGGAAAGTCATTCAGTGGATGTGATCTTGGCTCACAGGGGACGA\n",
      "\n",
      "Homo sapiens cDNA clone IMAGE:5296531, partial cds\n",
      "The sequence in GB format for ID XM_016942979.3:\n",
      "AACATTATCTTCATGATCCCTAGTTCTAGACCTCTTTGGTCACTGTAAAA\n",
      "\n",
      "PREDICTED: Pan troglodytes angiotensin converting enzyme 2 (ACE2), transcript variant X1, mRNA\n",
      "The sequence in GB format for ID XM_063702989.1:\n",
      "CTCTCCAGGATGAACTTTATATTGGCTCAGCAGATTGTTTACTGTGTTCT\n",
      "\n",
      "PREDICTED: Gorilla gorilla gorilla angiotensin converting enzyme 2 (ACE2), transcript variant X2, mRNA\n",
      "The sequence in GB format for ID XM_019019204.3:\n",
      "ATGATCCCTAGTTCTAGACCTCTTTGGTCACTGTAAAATTATAACATTTT\n",
      "\n",
      "PREDICTED: Gorilla gorilla gorilla angiotensin converting enzyme 2 (ACE2), transcript variant X3, mRNA\n",
      "The sequence in GB format for ID XM_055376641.1:\n",
      "AAAGGCAGAGGAGAACAAAGGAAGGAGGAAGTAACTTGAGGAATGTTGAG\n",
      "\n",
      "PREDICTED: Gorilla gorilla gorilla angiotensin converting enzyme 2 (ACE2), transcript variant X1, mRNA\n",
      "The sequence in GB format for ID BC048144.1:\n",
      "ATTCAGTGGATGTGATCTTGGCTCACAGGGGACGATGTCAAGCTCTTCCT\n",
      "\n",
      "Homo sapiens angiotensin I converting enzyme (peptidyl-dipeptidase A) 2, mRNA (cDNA clone IMAGE:5297522)\n",
      "The sequence in GB format for ID AF291820.1:\n",
      "ATCTTGGCTCACAGGGGACGATGTCAAGCTCTTCCTGGCTCCTTCTCAGC\n",
      "\n",
      "Homo sapiens ACE-related carboxypeptidase ACE2 mRNA, complete cds\n",
      "Accession number AF291820.1 does not have a summary\n",
      "The sequence in GB format for ID BC032938.1:\n",
      "AGCGGATTCGGTGGATGTGATCTTGGCTCACAGGGGACGATGTCAAGCTC\n",
      "\n",
      "Homo sapiens cDNA clone IMAGE:4830668, containing frame-shift errors\n",
      "The sequence in GB format for ID XM_025372062.1:\n",
      "ACTCATACATACACTCTAGTAATGAGGACACTGAGCTCGCGTCTGAAATT\n",
      "\n",
      "PREDICTED: Theropithecus gelada angiotensin I converting enzyme 2 (ACE2), mRNA\n",
      "The sequence in GB format for ID BC039902.1:\n",
      "CTTGGCTCACAGGGGACGATGTCAAGCTCTTCCTGGCTCCTTCTCAGCCT\n",
      "\n",
      "Homo sapiens angiotensin I converting enzyme (peptidyl-dipeptidase A) 2, mRNA (cDNA clone MGC:47598 IMAGE:5243048), complete cds\n",
      "The sequence in GB format for ID XM_023199053.2:\n",
      "GGCACTCATACATACACTCTGGTAATGAGGACACTGAGCTCGCTTCTGAA\n",
      "\n",
      "PREDICTED: Piliocolobus tephrosceles angiotensin I converting enzyme 2 (ACE2), mRNA\n",
      "The sequence in GB format for ID XM_010366065.2:\n",
      "GGCACTCATACATACACTCTAGTAATGAGGACACTGAGCTCGCTTCTGAA\n",
      "\n",
      "PREDICTED: Rhinopithecus roxellana angiotensin I converting enzyme 2 (ACE2), mRNA\n",
      "The sequence in GB format for ID XM_015126958.2:\n",
      "ACAATCATCGTCAAGTAGGCCCTTGAACCCTGCCATTTAAAGTGCTCCTC\n",
      "\n",
      "PREDICTED: Macaca mulatta angiotensin I converting enzyme 2 (ACE2), transcript variant X1, mRNA\n",
      "The sequence in GB format for ID XM_011995533.1:\n",
      "ACTCATACATACACTCTAGTAATGAGGACACTGAGCTCGCGTCTGAAATT\n",
      "\n",
      "PREDICTED: Mandrillus leucophaeus angiotensin I converting enzyme 2 (ACE2), mRNA\n",
      "The sequence in GB format for ID XM_012035808.1:\n",
      "TACATACACTCTAGTAATGAGGACACTGAGCTCACGTCTGAAATTTAACA\n",
      "\n",
      "PREDICTED: Cercocebus atys angiotensin I converting enzyme 2 (ACE2), transcript variant X1, mRNA\n",
      "The sequence in GB format for ID XM_050777627.1:\n",
      "GTGCTCCTCTCTTTGATCTGTGGCACTCATACATACACTCTAGTAATGAG\n",
      "\n",
      "PREDICTED: Macaca thibetana thibetana angiotensin converting enzyme 2 (ACE2), transcript variant X1, mRNA\n",
      "The sequence in GB format for ID AL110224.1:\n",
      "GGTCAAGCTCTTCCTGGCTCCTTCTCAGCCTTGTTGCTGTAACTGCTGCT\n",
      "\n",
      "Homo sapiens mRNA; cDNA DKFZp434A014 (from clone DKFZp434A014); partial cds\n",
      "The sequence in GB format for ID XM_058441404.1:\n",
      "TTCCACACTTGCACCACCCATGGACCCATCTGTGCCCATCTGGATTATTA\n",
      "\n",
      "PREDICTED: Hylobates moloch angiotensin converting enzyme 2 (ACE2), mRNA\n",
      "The sequence in GB format for ID XM_054543949.1:\n",
      "CTTTCTAGGAAAATATTAACCAAAAGTACCGGTTTTGATTTGGCCATAAA\n",
      "\n",
      "PREDICTED: Pongo abelii angiotensin converting enzyme 2 (ACE2), transcript variant X1, mRNA\n",
      "The sequence in GB format for ID XM_054471966.1:\n",
      "TGCCCAACCCAAGTTCAAAGGCTGATAAGAGAGAAAATCTCATGAGGAGG\n",
      "\n",
      "PREDICTED: Pongo pygmaeus angiotensin converting enzyme 2 (ACE2), transcript variant X1, mRNA\n",
      "The sequence in GB format for ID XM_033200918.1:\n",
      "CTGAGCTCGCTTCTGAAATTTAACAAGATAACCACTAAAATCTCTTTGAA\n",
      "\n",
      "PREDICTED: Trachypithecus francoisi angiotensin I converting enzyme 2 (ACE2), mRNA\n",
      "The sequence in GB format for ID XM_021933040.1:\n",
      "AAAGGAAGGAGGAAGTAACTTGTGGAATGTTGAGAAAGGAAGTTTTATAC\n",
      "\n",
      "PREDICTED: Papio anubis angiotensin I converting enzyme 2 (ACE2), transcript variant X1, mRNA\n",
      "The sequence in GB format for ID XM_012035809.1:\n",
      "GGAATGTTGAGAAAGGAAGTTTTATACCAGGACCTGACCATGATTGGGTG\n",
      "\n",
      "PREDICTED: Cercocebus atys angiotensin I converting enzyme 2 (ACE2), transcript variant X2, mRNA\n",
      "The sequence in GB format for ID XM_011735203.3:\n",
      "TTCAAAGAGGCAAAGGCAGAGGAGAACAAAGGAAGGAGGAAGTAACTTGT\n",
      "\n",
      "PREDICTED: Macaca nemestrina angiotensin converting enzyme 2 (LOC105478157), transcript variant X1, mRNA\n",
      "The sequence in GB format for ID NM_001131132.2:\n",
      "AGTCTAGGGAAAGTCATTCAGTGGATGTGATCTTGGCTCACAGGGGACGA\n",
      "\n",
      "Pongo abelii angiotensin converting enzyme 2 (ACE2), mRNA\n",
      "The sequence in GB format for ID CR857122.1:\n",
      "GAGTCTAGGGAAAGTCATTCAGTGGATGTGATCTTGGCTCACAGGGGACG\n",
      "\n",
      "Pongo abelii mRNA; cDNA DKFZp469K2021 (from clone DKFZp469K2021)\n",
      "The sequence in GB format for ID XM_021933041.2:\n",
      "TACATATCTGTCCTCTCCAGGATGAACTTTATATTGGTTCAGCAGATTGT\n",
      "\n",
      "PREDICTED: Papio anubis angiotensin I converting enzyme 2 (ACE2), transcript variant X2, mRNA\n",
      "The sequence in GB format for ID XM_012035810.1:\n",
      "TGGCCATAAAGTGACAGGAGAGTGCCCAACCCAAGTTCAAAGGCTGATAA\n",
      "\n",
      "PREDICTED: Cercocebus atys angiotensin I converting enzyme 2 (ACE2), transcript variant X3, mRNA\n",
      "The sequence in GB format for ID XM_012035811.1:\n",
      "GGAATGTTGAGAAAGGAAGTTTTATACCAGGACCTGACCATGATTGGGTG\n",
      "\n",
      "PREDICTED: Cercocebus atys angiotensin I converting enzyme 2 (ACE2), transcript variant X4, mRNA\n",
      "The sequence in GB format for ID XM_011735204.3:\n",
      "TTCAAAGAGGCAAAGGCAGAGGAGAACAAAGGAAGGAGGAAGTAACTTGT\n",
      "\n",
      "PREDICTED: Macaca nemestrina angiotensin converting enzyme 2 (LOC105478157), transcript variant X2, mRNA\n",
      "The sequence in GB format for ID XM_050777628.1:\n",
      "ACCGGTTTTGATTTGGCCATAAAGTGACAGGAGAGTGCCCAACCCAAGTT\n",
      "\n",
      "PREDICTED: Macaca thibetana thibetana angiotensin converting enzyme 2 (ACE2), transcript variant X2, mRNA\n",
      "The sequence in GB format for ID XM_037986357.2:\n",
      "TTTTGATTTGGCCATAAAGTGACAGGAGAGTGCCCAACCCAAGTTCAAAG\n",
      "\n",
      "PREDICTED: Chlorocebus sabaeus angiotensin converting enzyme 2 (ACE2), mRNA\n",
      "The sequence in GB format for ID XM_005593037.4:\n",
      "AGTCTAGGGAAAGTCATTCAGTGGATGTGATCTTGGCTCACAGGGGACGA\n",
      "\n",
      "PREDICTED: Macaca fascicularis angiotensin converting enzyme 2 (ACE2), mRNA\n",
      "The sequence in GB format for ID XM_028841825.1:\n",
      "CACAATCATCGTCAAGTAGGCCCTTGAACCCTGCCATTTAAAGTGCTCCT\n",
      "\n",
      "PREDICTED: Macaca mulatta angiotensin I converting enzyme 2 (ACE2), transcript variant X2, mRNA\n",
      "The sequence in GB format for ID XM_050777629.1:\n",
      "GTGCTCCTCTCTTTGATCTGTGGCACTCATACATACACTCTAGTAATGAG\n",
      "\n",
      "PREDICTED: Macaca thibetana thibetana angiotensin converting enzyme 2 (ACE2), transcript variant X3, mRNA\n",
      "The sequence in GB format for ID XM_010336623.2:\n",
      "TATTGGTTCAGCAGATTGTTTACTGTGTTCTTCTTCTTTTCTTTTTTTGG\n",
      "\n",
      "PREDICTED: Saimiri boliviensis boliviensis angiotensin converting enzyme 2 (ACE2), transcript variant X1, mRNA\n",
      "The sequence in GB format for ID XM_032285963.1:\n",
      "TATTGGTTCAGAAGATTGTTTACTGTGTTCTTCTTCTTTTCTTTTTTTGG\n",
      "\n",
      "PREDICTED: Sapajus apella angiotensin I converting enzyme 2 (ACE2), transcript variant X1, mRNA\n",
      "The sequence in GB format for ID XM_017512376.2:\n",
      "TTTTCTTTTTTTGGTCCTTCCTGCTCAGTGCCCAACCCAAGTTCAAAGGC\n",
      "\n",
      "PREDICTED: Cebus imitator angiotensin I converting enzyme 2 (ACE2), transcript variant X1, mRNA\n",
      "The sequence in GB format for ID XM_012434682.3:\n",
      "AAATTATTCTAAAATCTGTTACATATCTGTCTTCTCCAGGATGAACTTTA\n",
      "\n",
      "PREDICTED: Aotus nancymaae angiotensin converting enzyme 2 (ACE2), mRNA\n",
      "The sequence in GB format for ID XM_017888581.1:\n",
      "TGCTGGGGACAAATGGTCTGCCTTTTTAAAAGAACAGTCCACACTTGCCC\n",
      "\n",
      "PREDICTED: Rhinopithecus bieti angiotensin I converting enzyme 2 (ACE2), transcript variant X2, mRNA\n",
      "The sequence in GB format for ID XM_017888580.1:\n",
      "TGCTGGGGACAAATGGTCTGCCTTTTTAAAAGAACAGTCCACACTTGCCC\n",
      "\n",
      "PREDICTED: Rhinopithecus bieti angiotensin I converting enzyme 2 (ACE2), transcript variant X1, mRNA\n"
     ]
    }
   ],
   "execution_count": 13
  },
  {
   "metadata": {
    "ExecuteTime": {
     "end_time": "2025-04-28T15:05:25.729848Z",
     "start_time": "2025-04-28T15:05:25.713316Z"
    }
   },
   "cell_type": "code",
   "source": "extended_data = pd.DataFrame(blast_accessions)",
   "id": "3b616552c9725c83",
   "outputs": [],
   "execution_count": 14
  },
  {
   "metadata": {
    "ExecuteTime": {
     "end_time": "2025-04-28T15:05:36.276382Z",
     "start_time": "2025-04-28T15:05:36.267806Z"
    }
   },
   "cell_type": "code",
   "source": "assert (extended_data['title'].values == processed_stream['title'].values).all(), 'Something went wrong in the way you generated the dictionary'",
   "id": "cbb06f6c6d02ca46",
   "outputs": [],
   "execution_count": 16
  },
  {
   "metadata": {
    "ExecuteTime": {
     "end_time": "2025-04-28T15:05:49.475080Z",
     "start_time": "2025-04-28T15:05:49.452567Z"
    }
   },
   "cell_type": "code",
   "source": "all_data = extended_data.merge(processed_stream, 'left', on='title')",
   "id": "aa77f17fd56c0f03",
   "outputs": [],
   "execution_count": 17
  },
  {
   "metadata": {},
   "cell_type": "code",
   "outputs": [],
   "execution_count": null,
   "source": "",
   "id": "32d4fd3a8915b8d7"
  },
  {
   "metadata": {},
   "cell_type": "code",
   "outputs": [],
   "execution_count": null,
   "source": "",
   "id": "474c69a57c7b3601"
  },
  {
   "metadata": {},
   "cell_type": "code",
   "outputs": [],
   "execution_count": null,
   "source": "",
   "id": "4cbdec781c490ce"
  },
  {
   "metadata": {},
   "cell_type": "code",
   "outputs": [],
   "execution_count": null,
   "source": "",
   "id": "17ad29fced2af105"
  },
  {
   "metadata": {},
   "cell_type": "code",
   "outputs": [],
   "execution_count": null,
   "source": "",
   "id": "c90549dc52967a78"
  },
  {
   "metadata": {},
   "cell_type": "code",
   "outputs": [],
   "execution_count": null,
   "source": "",
   "id": "be5f2237f9e0b36e"
  },
  {
   "metadata": {},
   "cell_type": "code",
   "outputs": [],
   "execution_count": null,
   "source": "",
   "id": "ebe11e580e8c6b14"
  },
  {
   "metadata": {},
   "cell_type": "code",
   "outputs": [],
   "execution_count": null,
   "source": "",
   "id": "eecdf3c652a3ec24"
  }
 ],
 "metadata": {
  "kernelspec": {
   "display_name": "Python 3",
   "language": "python",
   "name": "python3"
  },
  "language_info": {
   "codemirror_mode": {
    "name": "ipython",
    "version": 2
   },
   "file_extension": ".py",
   "mimetype": "text/x-python",
   "name": "python",
   "nbconvert_exporter": "python",
   "pygments_lexer": "ipython2",
   "version": "2.7.6"
  }
 },
 "nbformat": 4,
 "nbformat_minor": 5
}
