{
 "cells": [
  {
   "cell_type": "code",
   "id": "initial_id",
   "metadata": {
    "collapsed": true,
    "ExecuteTime": {
     "end_time": "2025-05-04T19:41:43.066972Z",
     "start_time": "2025-05-04T19:41:41.419547Z"
    }
   },
   "source": "from utils.data_assistant_utils import *",
   "outputs": [],
   "execution_count": 1
  },
  {
   "metadata": {},
   "cell_type": "markdown",
   "source": [
    "### Get the accession number using openAI\n",
    "\n",
    "---"
   ],
   "id": "c9a547b712be050c"
  },
  {
   "metadata": {
    "ExecuteTime": {
     "end_time": "2025-05-04T19:41:51.366034Z",
     "start_time": "2025-05-04T19:41:44.742565Z"
    }
   },
   "cell_type": "code",
   "source": [
    "accession = get_accession('You are an expert in the NCBI accession number formatting.',\n",
    "                          'What is the NCBI accession number for the nucleotide sequence of the ACE2 receptor in humans?')"
   ],
   "id": "3bf03178db1a799",
   "outputs": [],
   "execution_count": 2
  },
  {
   "metadata": {},
   "cell_type": "markdown",
   "source": "#### Print accession number to make sure that it looks valid",
   "id": "2e3aaa5b95d7e5f3"
  },
  {
   "metadata": {
    "ExecuteTime": {
     "end_time": "2025-05-04T19:41:56.569087Z",
     "start_time": "2025-05-04T19:41:56.565411Z"
    }
   },
   "cell_type": "code",
   "source": "print(accession)",
   "id": "89d323e1ee50db01",
   "outputs": [
    {
     "name": "stdout",
     "output_type": "stream",
     "text": [
      "NM_021804\n"
     ]
    }
   ],
   "execution_count": 3
  },
  {
   "metadata": {},
   "cell_type": "markdown",
   "source": [
    "### Get the SeqRecord object based on that accession number\n",
    "\n",
    "---"
   ],
   "id": "e37956d1d7bc0fc9"
  },
  {
   "metadata": {
    "ExecuteTime": {
     "end_time": "2025-05-04T19:42:03.704891Z",
     "start_time": "2025-05-04T19:42:02.747329Z"
    }
   },
   "cell_type": "code",
   "source": "record, _ = fetch_sequence(accession, email='orogers@wesleyan.edu')",
   "id": "d1a543a84fd9beb7",
   "outputs": [
    {
     "name": "stdout",
     "output_type": "stream",
     "text": [
      "The sequence in GB format for ID NM_021804.3:\n",
      "GGCACTCATACATACACTCTGGCAATGAGGACACTGAGCTCGCTTCTGAA\n",
      "\n",
      "Homo sapiens angiotensin converting enzyme 2 (ACE2), transcript variant 2, mRNA\n"
     ]
    },
    {
     "ename": "ValueError",
     "evalue": "too many values to unpack (expected 2)",
     "output_type": "error",
     "traceback": [
      "\u001B[31m---------------------------------------------------------------------------\u001B[39m",
      "\u001B[31mValueError\u001B[39m                                Traceback (most recent call last)",
      "\u001B[36mCell\u001B[39m\u001B[36m \u001B[39m\u001B[32mIn[4]\u001B[39m\u001B[32m, line 1\u001B[39m\n\u001B[32m----> \u001B[39m\u001B[32m1\u001B[39m record, _ = fetch_sequence(accession, email=\u001B[33m'\u001B[39m\u001B[33morogers@wesleyan.edu\u001B[39m\u001B[33m'\u001B[39m)\n",
      "\u001B[31mValueError\u001B[39m: too many values to unpack (expected 2)"
     ]
    }
   ],
   "execution_count": 4
  },
  {
   "metadata": {
    "ExecuteTime": {
     "end_time": "2025-05-04T19:42:05.465367Z",
     "start_time": "2025-05-04T19:42:05.439955Z"
    }
   },
   "cell_type": "code",
   "source": "sequence = record.seq",
   "id": "6070706a3710d056",
   "outputs": [
    {
     "ename": "NameError",
     "evalue": "name 'record' is not defined",
     "output_type": "error",
     "traceback": [
      "\u001B[31m---------------------------------------------------------------------------\u001B[39m",
      "\u001B[31mNameError\u001B[39m                                 Traceback (most recent call last)",
      "\u001B[36mCell\u001B[39m\u001B[36m \u001B[39m\u001B[32mIn[5]\u001B[39m\u001B[32m, line 1\u001B[39m\n\u001B[32m----> \u001B[39m\u001B[32m1\u001B[39m sequence = \u001B[43mrecord\u001B[49m.seq\n",
      "\u001B[31mNameError\u001B[39m: name 'record' is not defined"
     ]
    }
   ],
   "execution_count": 5
  },
  {
   "metadata": {
    "ExecuteTime": {
     "end_time": "2025-05-04T19:42:05.565313Z",
     "start_time": "2025-05-04T19:42:05.549491Z"
    }
   },
   "cell_type": "code",
   "source": "sequence",
   "id": "8606b26e4ee5b471",
   "outputs": [
    {
     "ename": "NameError",
     "evalue": "name 'sequence' is not defined",
     "output_type": "error",
     "traceback": [
      "\u001B[31m---------------------------------------------------------------------------\u001B[39m",
      "\u001B[31mNameError\u001B[39m                                 Traceback (most recent call last)",
      "\u001B[36mCell\u001B[39m\u001B[36m \u001B[39m\u001B[32mIn[6]\u001B[39m\u001B[32m, line 1\u001B[39m\n\u001B[32m----> \u001B[39m\u001B[32m1\u001B[39m \u001B[43msequence\u001B[49m\n",
      "\u001B[31mNameError\u001B[39m: name 'sequence' is not defined"
     ]
    }
   ],
   "execution_count": 6
  },
  {
   "metadata": {},
   "cell_type": "markdown",
   "source": [
    "### Perform a Nucleotide BLAST\n",
    "\n",
    "---"
   ],
   "id": "579b356bfb01718c"
  },
  {
   "metadata": {
    "ExecuteTime": {
     "end_time": "2025-05-04T19:42:09.830212Z",
     "start_time": "2025-05-04T19:42:09.804094Z"
    }
   },
   "cell_type": "code",
   "source": "handle = nucleotide_blast(sequence)",
   "id": "691364de93054425",
   "outputs": [
    {
     "ename": "NameError",
     "evalue": "name 'sequence' is not defined",
     "output_type": "error",
     "traceback": [
      "\u001B[31m---------------------------------------------------------------------------\u001B[39m",
      "\u001B[31mNameError\u001B[39m                                 Traceback (most recent call last)",
      "\u001B[36mCell\u001B[39m\u001B[36m \u001B[39m\u001B[32mIn[7]\u001B[39m\u001B[32m, line 1\u001B[39m\n\u001B[32m----> \u001B[39m\u001B[32m1\u001B[39m handle = nucleotide_blast(\u001B[43msequence\u001B[49m)\n",
      "\u001B[31mNameError\u001B[39m: name 'sequence' is not defined"
     ]
    }
   ],
   "execution_count": 7
  },
  {
   "metadata": {},
   "cell_type": "markdown",
   "source": "#### Process the results handle",
   "id": "d120f83726fd6be8"
  },
  {
   "metadata": {
    "ExecuteTime": {
     "end_time": "2025-05-04T19:42:35.861558Z",
     "start_time": "2025-05-04T19:42:35.811573Z"
    }
   },
   "cell_type": "code",
   "source": "processed_stream = process_stream(handle, save=False, save_name='test')",
   "id": "e93155836398e353",
   "outputs": [
    {
     "ename": "NameError",
     "evalue": "name 'handle' is not defined",
     "output_type": "error",
     "traceback": [
      "\u001B[31m---------------------------------------------------------------------------\u001B[39m",
      "\u001B[31mNameError\u001B[39m                                 Traceback (most recent call last)",
      "\u001B[36mCell\u001B[39m\u001B[36m \u001B[39m\u001B[32mIn[11]\u001B[39m\u001B[32m, line 1\u001B[39m\n\u001B[32m----> \u001B[39m\u001B[32m1\u001B[39m processed_stream = process_stream(\u001B[43mhandle\u001B[49m, save=\u001B[38;5;28;01mFalse\u001B[39;00m, save_name=\u001B[33m'\u001B[39m\u001B[33mtest\u001B[39m\u001B[33m'\u001B[39m)\n",
      "\u001B[31mNameError\u001B[39m: name 'handle' is not defined"
     ]
    }
   ],
   "execution_count": 11
  },
  {
   "metadata": {},
   "cell_type": "code",
   "outputs": [],
   "execution_count": null,
   "source": "",
   "id": "294cafdbc7f372f0"
  },
  {
   "metadata": {},
   "cell_type": "code",
   "outputs": [],
   "execution_count": null,
   "source": "",
   "id": "ecc207bc794056f3"
  },
  {
   "metadata": {},
   "cell_type": "markdown",
   "source": [
    "# Embed the sequences and their summaries using openAIembeddings\n",
    "\n",
    "---"
   ],
   "id": "5a25f3fd5fad3f60"
  },
  {
   "metadata": {
    "ExecuteTime": {
     "end_time": "2025-05-04T19:35:15.243088Z",
     "start_time": "2025-05-04T19:35:15.228221Z"
    }
   },
   "cell_type": "code",
   "source": [
    "# Load previously generated BLAST results\n",
    "df = pd.read_csv('ACE2_28Apr.csv')"
   ],
   "id": "d93dae646bdd72d5",
   "outputs": [],
   "execution_count": 2
  },
  {
   "metadata": {
    "ExecuteTime": {
     "end_time": "2025-05-04T19:35:17.008793Z",
     "start_time": "2025-05-04T19:35:17.003375Z"
    }
   },
   "cell_type": "code",
   "source": "print(df)",
   "id": "2e6b3022f331d919",
   "outputs": [
    {
     "name": "stdout",
     "output_type": "stream",
     "text": [
      "                                                title  length  e_value  \\\n",
      "0   gi|1700998533|ref|NM_021804.3| Homo sapiens an...    3596      0.0   \n",
      "1   gi|66863987|dbj|AB193259.1| Homo sapiens ace2 ...    3605      0.0   \n",
      "2   gi|2493543526|ref|XM_055376642.1| PREDICTED: G...    3596      0.0   \n",
      "3   gi|2694562693|ref|XM_063634561.1| PREDICTED: S...    3597      0.0   \n",
      "4   gi|1743233336|ref|XM_003261084.3| PREDICTED: N...    3593      0.0   \n",
      "5   gi|66863989|dbj|AB193260.1| Homo sapiens ace2 ...    3470      0.0   \n",
      "6   gi|8650465|gb|AF241254.1|AF241254 Homo sapiens...    3405      0.0   \n",
      "7   gi|2490809741|ref|XM_008974180.3| PREDICTED: P...    6570      0.0   \n",
      "8   gi|1700998531|ref|NM_001371415.1| Homo sapiens...    3339      0.0   \n",
      "9   gi|37747876|gb|BC059378.1| Homo sapiens cDNA c...    3375      0.0   \n",
      "10  gi|2697861032|ref|XM_016942979.3| PREDICTED: P...    3540      0.0   \n",
      "11  gi|2695108862|ref|XM_063702989.1| PREDICTED: G...    3477      0.0   \n",
      "12  gi|2695108865|ref|XM_019019204.3| PREDICTED: G...    3522      0.0   \n",
      "13  gi|2493543521|ref|XM_055376641.1| PREDICTED: G...    3577      0.0   \n",
      "14  gi|28839033|gb|BC048144.1| Homo sapiens angiot...    3339      0.0   \n",
      "15  gi|9802432|gb|AF291820.1|AF291820 Homo sapiens...    3325      0.0   \n",
      "16  gi|21432080|gb|BC032938.1| Homo sapiens cDNA c...    3337      0.0   \n",
      "17  gi|1411182783|ref|XM_025372062.1| PREDICTED: T...    3592      0.0   \n",
      "18  gi|25140225|gb|BC039902.1| Homo sapiens angiot...    3348      0.0   \n",
      "19  gi|1788698877|ref|XM_023199053.2| PREDICTED: P...    3595      0.0   \n",
      "20  gi|1751287630|ref|XM_010366065.2| PREDICTED: R...    3590      0.0   \n",
      "21  gi|1622969054|ref|XM_015126958.2| PREDICTED: M...    3661      0.0   \n",
      "22  gi|795225765|ref|XM_011995533.1| PREDICTED: Ma...    3592      0.0   \n",
      "23  gi|795472177|ref|XM_012035808.1| PREDICTED: Ce...    3587      0.0   \n",
      "24  gi|2309511222|ref|XM_050777627.1| PREDICTED: M...    3616      0.0   \n",
      "25  gi|5817159|emb|AL110224.1| Homo sapiens mRNA; ...    3341      0.0   \n",
      "26  gi|2552960217|ref|XM_058441404.1| PREDICTED: H...    3523      0.0   \n",
      "27  gi|2464223790|ref|XM_054543949.1| PREDICTED: P...    3770      0.0   \n",
      "28  gi|2463528935|ref|XM_054471966.1| PREDICTED: P...    3395      0.0   \n",
      "29  gi|1825945345|ref|XM_033200918.1| PREDICTED: T...    3557      0.0   \n",
      "30  gi|1220240516|ref|XM_021933040.1| PREDICTED: P...    3650      0.0   \n",
      "31  gi|795472182|ref|XM_012035809.1| PREDICTED: Ce...    3625      0.0   \n",
      "32  gi|2898873287|ref|XM_011735203.3| PREDICTED: M...    4791      0.0   \n",
      "33  gi|402767149|ref|NM_001131132.2| Pongo abelii ...    3668      0.0   \n",
      "34  gi|55725117|emb|CR857122.1| Pongo abelii mRNA;...    3669      0.0   \n",
      "35  gi|1777353679|ref|XM_021933041.2| PREDICTED: P...    3487      0.0   \n",
      "36  gi|795472188|ref|XM_012035810.1| PREDICTED: Ce...    3414      0.0   \n",
      "37  gi|795472194|ref|XM_012035811.1| PREDICTED: Ce...    3535      0.0   \n",
      "38  gi|2898873288|ref|XM_011735204.3| PREDICTED: M...    4701      0.0   \n",
      "39  gi|2309511224|ref|XM_050777628.1| PREDICTED: M...    3427      0.0   \n",
      "40  gi|2954819339|ref|XM_037986357.2| PREDICTED: C...    3422      0.0   \n",
      "41  gi|2739348940|ref|XM_005593037.4| PREDICTED: M...    3338      0.0   \n",
      "42  gi|1622969056|ref|XM_028841825.1| PREDICTED: M...    3565      0.0   \n",
      "43  gi|2309511226|ref|XM_050777629.1| PREDICTED: M...    3519      0.0   \n",
      "44  gi|1984069662|ref|XM_010336623.2| PREDICTED: S...    3455      0.0   \n",
      "45  gi|1804372246|ref|XM_032285963.1| PREDICTED: S...    3451      0.0   \n",
      "46  gi|1934007973|ref|XM_017512376.2| PREDICTED: C...    3415      0.0   \n",
      "47  gi|2715661566|ref|XM_012434682.3| PREDICTED: A...    3496      0.0   \n",
      "48  gi|1059175446|ref|XM_017888581.1| PREDICTED: R...    3093      0.0   \n",
      "49  gi|1059175444|ref|XM_017888580.1| PREDICTED: R...    3090      0.0   \n",
      "\n",
      "     score  query_start  query_end  \n",
      "0   7192.0            1       3596  \n",
      "1   7186.0            4       3596  \n",
      "2   7047.0            1       3596  \n",
      "3   6860.0            1       3596  \n",
      "4   6860.0            1       3596  \n",
      "5   6790.0          202       3596  \n",
      "6   6786.0          204       3596  \n",
      "7   6686.0          202       3596  \n",
      "8   6678.0          258       3596  \n",
      "9   6669.0          258       3594  \n",
      "10  6657.0          202       3596  \n",
      "11  6655.0          202       3596  \n",
      "12  6655.0          202       3596  \n",
      "13  6654.0          200       3596  \n",
      "14  6634.0          273       3596  \n",
      "15  6620.0          287       3596  \n",
      "16  6614.0          273       3591  \n",
      "17  6612.0            4       3596  \n",
      "18  6610.0          289       3593  \n",
      "19  6603.0            1       3596  \n",
      "20  6578.0            1       3596  \n",
      "21  6573.0            1       3596  \n",
      "22  6572.0            4       3596  \n",
      "23  6572.0            9       3596  \n",
      "24  6563.0            1       3596  \n",
      "25  6561.0          309       3591  \n",
      "26  6505.0          202       3596  \n",
      "27  6501.0          202       3596  \n",
      "28  6490.0          205       3596  \n",
      "29  6466.0           34       3596  \n",
      "30  6429.0          113       3596  \n",
      "31  6399.0          113       3596  \n",
      "32  6389.0          113       3596  \n",
      "33  6379.0          258       3596  \n",
      "34  6379.0          258       3596  \n",
      "35  6271.0          202       3596  \n",
      "36  6241.0          202       3596  \n",
      "37  6240.0          205       3596  \n",
      "38  6240.0          205       3596  \n",
      "39  6226.0          202       3596  \n",
      "40  6196.0          202       3596  \n",
      "41  6134.0          258       3596  \n",
      "42  6047.0          299       3596  \n",
      "43  6042.0          299       3596  \n",
      "44  5740.0          202       3589  \n",
      "45  5739.0          202       3589  \n",
      "46  5715.0          202       3589  \n",
      "47  5672.0          202       3596  \n",
      "48  5649.0          498       3596  \n",
      "49  5622.0          498       3596  \n"
     ]
    }
   ],
   "execution_count": 4
  },
  {
   "metadata": {},
   "cell_type": "code",
   "outputs": [],
   "execution_count": null,
   "source": "",
   "id": "d01bcaef240c0457"
  },
  {
   "metadata": {},
   "cell_type": "code",
   "outputs": [],
   "execution_count": null,
   "source": "",
   "id": "b8e937cc5f0708d1"
  },
  {
   "metadata": {},
   "cell_type": "code",
   "outputs": [],
   "execution_count": null,
   "source": "",
   "id": "faad6b89117b783d"
  },
  {
   "metadata": {},
   "cell_type": "code",
   "outputs": [],
   "execution_count": null,
   "source": "",
   "id": "5b6e81b0f5ef23fa"
  },
  {
   "metadata": {},
   "cell_type": "code",
   "outputs": [],
   "execution_count": null,
   "source": "",
   "id": "5dd0eb6e033c35cc"
  },
  {
   "metadata": {
    "ExecuteTime": {
     "end_time": "2025-04-30T12:54:15.760115Z",
     "start_time": "2025-04-30T12:54:15.754380Z"
    }
   },
   "cell_type": "code",
   "source": "from langchain_openai import OpenAIEmbeddings",
   "id": "4cbdec781c490ce",
   "outputs": [],
   "execution_count": 18
  },
  {
   "metadata": {
    "ExecuteTime": {
     "end_time": "2025-04-30T12:54:16.353333Z",
     "start_time": "2025-04-30T12:54:16.276022Z"
    }
   },
   "cell_type": "code",
   "source": [
    "embed = OpenAIEmbeddings(\n",
    "    model='text-embedding-ada-002'\n",
    ")"
   ],
   "id": "17ad29fced2af105",
   "outputs": [],
   "execution_count": 19
  },
  {
   "metadata": {
    "ExecuteTime": {
     "end_time": "2025-04-30T12:54:17.619436Z",
     "start_time": "2025-04-30T12:54:17.603876Z"
    }
   },
   "cell_type": "code",
   "source": "print(all_data['summary'][0])",
   "id": "be5f2237f9e0b36e",
   "outputs": [
    {
     "name": "stdout",
     "output_type": "stream",
     "text": [
      "REVIEWED REFSEQ: This record has been curated by NCBI staff. The\n",
      "reference sequence was derived from AC097625.11 and AB193259.1.\n",
      "On Jul 11, 2019 this sequence version replaced NM_021804.2.\n",
      "Summary: The protein encoded by this gene belongs to the\n",
      "angiotensin-converting enzyme family of dipeptidyl\n",
      "carboxydipeptidases and has considerable homology to human\n",
      "angiotensin 1 converting enzyme. This secreted protein catalyzes\n",
      "the cleavage of angiotensin I into angiotensin 1-9, and angiotensin\n",
      "II into the vasodilator angiotensin 1-7. ACE2 is known to be\n",
      "expressed in various human organs, and its organ- and cell-specific\n",
      "expression suggests that it may play a role in the regulation of\n",
      "cardiovascular and renal function, as well as fertility. In\n",
      "addition, the encoded protein is a functional receptor for the\n",
      "spike glycoprotein of the human coronavirus HCoV-NL63 and the human\n",
      "severe acute respiratory syndrome coronaviruses, SARS-CoV and\n",
      "SARS-CoV-2, the latter is the causative agent of coronavirus\n",
      "disease-2019 (COVID-19). Multiple splice variants have been found\n",
      "for this gene and the dACE2 (or MIRb-ACE2) splice variant has been\n",
      "found to be interferon inducible. [provided by RefSeq, Nov 2020].\n",
      "Transcript Variant: This variant (2) represents the longest\n",
      "transcript, with a longer 5' UTR compared to variant 2. Variants 1\n",
      "and 2 encode the same isoform (1).\n",
      "Publication Note:  This RefSeq record includes a subset of the\n",
      "publications that are available for this gene. Please see the Gene\n",
      "record to access additional publications.\n",
      "COMPLETENESS: complete on the 3' end.\n"
     ]
    }
   ],
   "execution_count": 20
  },
  {
   "metadata": {},
   "cell_type": "code",
   "outputs": [],
   "execution_count": null,
   "source": "# DNABERT",
   "id": "5f577bf4429292e1"
  },
  {
   "metadata": {
    "ExecuteTime": {
     "end_time": "2025-04-30T12:54:22.754280Z",
     "start_time": "2025-04-30T12:54:22.720114Z"
    }
   },
   "cell_type": "code",
   "source": "print(all_data)",
   "id": "50e80f1f0508f70f",
   "outputs": [
    {
     "name": "stdout",
     "output_type": "stream",
     "text": [
      "             title                                           sequence  \\\n",
      "0      NM_021804.3  (G, G, C, A, C, T, C, A, T, A, C, A, T, A, C, ...   \n",
      "1       AB193259.1  (A, C, T, C, A, T, A, C, A, T, A, C, A, C, T, ...   \n",
      "2   XM_055376642.1  (G, G, C, A, C, T, C, A, T, A, C, A, T, A, C, ...   \n",
      "3   XM_063634561.1  (G, G, C, A, C, T, C, A, T, A, C, A, T, A, C, ...   \n",
      "4   XM_003261084.3  (G, G, C, A, C, T, C, A, T, A, C, A, T, A, C, ...   \n",
      "5       AB193260.1  (T, A, T, T, G, G, C, T, C, A, G, C, A, G, A, ...   \n",
      "6       AF241254.1  (C, G, C, C, C, A, A, C, C, C, A, A, G, T, T, ...   \n",
      "7   XM_008974180.3  (A, C, T, G, T, G, T, T, C, T, T, C, T, T, C, ...   \n",
      "8   NM_001371415.1  (A, G, T, C, T, A, G, G, G, A, A, A, G, T, C, ...   \n",
      "9       BC059378.1  (A, G, T, C, T, A, G, G, G, A, A, A, G, T, C, ...   \n",
      "10  XM_016942979.3  (A, A, C, A, T, T, A, T, C, T, T, C, A, T, G, ...   \n",
      "11  XM_063702989.1  (C, T, C, T, C, C, A, G, G, A, T, G, A, A, C, ...   \n",
      "12  XM_019019204.3  (A, T, G, A, T, C, C, C, T, A, G, T, T, C, T, ...   \n",
      "13  XM_055376641.1  (A, A, A, G, G, C, A, G, A, G, G, A, G, A, A, ...   \n",
      "14      BC048144.1  (A, T, T, C, A, G, T, G, G, A, T, G, T, G, A, ...   \n",
      "15      AF291820.1  (A, T, C, T, T, G, G, C, T, C, A, C, A, G, G, ...   \n",
      "16      BC032938.1  (A, G, C, G, G, A, T, T, C, G, G, T, G, G, A, ...   \n",
      "17  XM_025372062.1  (A, C, T, C, A, T, A, C, A, T, A, C, A, C, T, ...   \n",
      "18      BC039902.1  (C, T, T, G, G, C, T, C, A, C, A, G, G, G, G, ...   \n",
      "19  XM_023199053.2  (G, G, C, A, C, T, C, A, T, A, C, A, T, A, C, ...   \n",
      "20  XM_010366065.2  (G, G, C, A, C, T, C, A, T, A, C, A, T, A, C, ...   \n",
      "21  XM_015126958.2  (A, C, A, A, T, C, A, T, C, G, T, C, A, A, G, ...   \n",
      "22  XM_011995533.1  (A, C, T, C, A, T, A, C, A, T, A, C, A, C, T, ...   \n",
      "23  XM_012035808.1  (T, A, C, A, T, A, C, A, C, T, C, T, A, G, T, ...   \n",
      "24  XM_050777627.1  (G, T, G, C, T, C, C, T, C, T, C, T, T, T, G, ...   \n",
      "25      AL110224.1  (G, G, T, C, A, A, G, C, T, C, T, T, C, C, T, ...   \n",
      "26  XM_058441404.1  (T, T, C, C, A, C, A, C, T, T, G, C, A, C, C, ...   \n",
      "27  XM_054543949.1  (C, T, T, T, C, T, A, G, G, A, A, A, A, T, A, ...   \n",
      "28  XM_054471966.1  (T, G, C, C, C, A, A, C, C, C, A, A, G, T, T, ...   \n",
      "29  XM_033200918.1  (C, T, G, A, G, C, T, C, G, C, T, T, C, T, G, ...   \n",
      "30  XM_021933040.1  (A, A, A, G, G, A, A, G, G, A, G, G, A, A, G, ...   \n",
      "31  XM_012035809.1  (G, G, A, A, T, G, T, T, G, A, G, A, A, A, G, ...   \n",
      "32  XM_011735203.3  (T, T, C, A, A, A, G, A, G, G, C, A, A, A, G, ...   \n",
      "33  NM_001131132.2  (A, G, T, C, T, A, G, G, G, A, A, A, G, T, C, ...   \n",
      "34      CR857122.1  (G, A, G, T, C, T, A, G, G, G, A, A, A, G, T, ...   \n",
      "35  XM_021933041.2  (T, A, C, A, T, A, T, C, T, G, T, C, C, T, C, ...   \n",
      "36  XM_012035810.1  (T, G, G, C, C, A, T, A, A, A, G, T, G, A, C, ...   \n",
      "37  XM_012035811.1  (G, G, A, A, T, G, T, T, G, A, G, A, A, A, G, ...   \n",
      "38  XM_011735204.3  (T, T, C, A, A, A, G, A, G, G, C, A, A, A, G, ...   \n",
      "39  XM_050777628.1  (A, C, C, G, G, T, T, T, T, G, A, T, T, T, G, ...   \n",
      "40  XM_037986357.2  (T, T, T, T, G, A, T, T, T, G, G, C, C, A, T, ...   \n",
      "41  XM_005593037.4  (A, G, T, C, T, A, G, G, G, A, A, A, G, T, C, ...   \n",
      "42  XM_028841825.1  (C, A, C, A, A, T, C, A, T, C, G, T, C, A, A, ...   \n",
      "43  XM_050777629.1  (G, T, G, C, T, C, C, T, C, T, C, T, T, T, G, ...   \n",
      "44  XM_010336623.2  (T, A, T, T, G, G, T, T, C, A, G, C, A, G, A, ...   \n",
      "45  XM_032285963.1  (T, A, T, T, G, G, T, T, C, A, G, A, A, G, A, ...   \n",
      "46  XM_017512376.2  (T, T, T, T, C, T, T, T, T, T, T, T, G, G, T, ...   \n",
      "47  XM_012434682.3  (A, A, A, T, T, A, T, T, C, T, A, A, A, A, T, ...   \n",
      "48  XM_017888581.1  (T, G, C, T, G, G, G, G, A, C, A, A, A, T, G, ...   \n",
      "49  XM_017888580.1  (T, G, C, T, G, G, G, G, A, C, A, A, A, T, G, ...   \n",
      "\n",
      "                                              summary  length  e_value  \\\n",
      "0   REVIEWED REFSEQ: This record has been curated ...    3596      0.0   \n",
      "1   There is no summary provided for this accessio...    3605      0.0   \n",
      "2   MODEL REFSEQ:  This record is predicted by aut...    3596      0.0   \n",
      "3   MODEL REFSEQ:  This record is predicted by aut...    3597      0.0   \n",
      "4   MODEL REFSEQ:  This record is predicted by aut...    3593      0.0   \n",
      "5   There is no summary provided for this accessio...    3470      0.0   \n",
      "6   There is no summary provided for this accessio...    3405      0.0   \n",
      "7   MODEL REFSEQ:  This record is predicted by aut...    6570      0.0   \n",
      "8   REVIEWED REFSEQ: This record has been curated ...    3339      0.0   \n",
      "9   Contact: MGC help desk\\nEmail: cgapbs-r@mail.n...    3375      0.0   \n",
      "10  MODEL REFSEQ:  This record is predicted by aut...    3540      0.0   \n",
      "11  MODEL REFSEQ:  This record is predicted by aut...    3477      0.0   \n",
      "12  MODEL REFSEQ:  This record is predicted by aut...    3522      0.0   \n",
      "13  MODEL REFSEQ:  This record is predicted by aut...    3577      0.0   \n",
      "14  Contact: MGC help desk\\nEmail: cgapbs-r@mail.n...    3339      0.0   \n",
      "15  There is no summary provided for this accessio...    3325      0.0   \n",
      "16  Contact: MGC help desk\\nEmail: cgapbs-r@mail.n...    3337      0.0   \n",
      "17  MODEL REFSEQ:  This record is predicted by aut...    3592      0.0   \n",
      "18  Contact: MGC help desk\\nEmail: cgapbs-r@mail.n...    3348      0.0   \n",
      "19  MODEL REFSEQ:  This record is predicted by aut...    3595      0.0   \n",
      "20  MODEL REFSEQ:  This record is predicted by aut...    3590      0.0   \n",
      "21  MODEL REFSEQ:  This record is predicted by aut...    3661      0.0   \n",
      "22  MODEL REFSEQ:  This record is predicted by aut...    3592      0.0   \n",
      "23  MODEL REFSEQ:  This record is predicted by aut...    3587      0.0   \n",
      "24  MODEL REFSEQ:  This record is predicted by aut...    3616      0.0   \n",
      "25  Clone from S. Wiemann, Molecular Genome Analys...    3341      0.0   \n",
      "26  MODEL REFSEQ:  This record is predicted by aut...    3523      0.0   \n",
      "27  MODEL REFSEQ:  This record is predicted by aut...    3770      0.0   \n",
      "28  MODEL REFSEQ:  This record is predicted by aut...    3395      0.0   \n",
      "29  MODEL REFSEQ:  This record is predicted by aut...    3557      0.0   \n",
      "30  MODEL REFSEQ:  This record is predicted by aut...    3650      0.0   \n",
      "31  MODEL REFSEQ:  This record is predicted by aut...    3625      0.0   \n",
      "32  MODEL REFSEQ:  This record is predicted by aut...    4791      0.0   \n",
      "33  PROVISIONAL REFSEQ: This record has not yet be...    3668      0.0   \n",
      "34  Clone from S. Wiemann, Molecular Genome Analys...    3669      0.0   \n",
      "35  MODEL REFSEQ:  This record is predicted by aut...    3487      0.0   \n",
      "36  MODEL REFSEQ:  This record is predicted by aut...    3414      0.0   \n",
      "37  MODEL REFSEQ:  This record is predicted by aut...    3535      0.0   \n",
      "38  MODEL REFSEQ:  This record is predicted by aut...    4701      0.0   \n",
      "39  MODEL REFSEQ:  This record is predicted by aut...    3427      0.0   \n",
      "40  MODEL REFSEQ:  This record is predicted by aut...    3422      0.0   \n",
      "41  MODEL REFSEQ:  This record is predicted by aut...    3338      0.0   \n",
      "42  MODEL REFSEQ:  This record is predicted by aut...    3565      0.0   \n",
      "43  MODEL REFSEQ:  This record is predicted by aut...    3519      0.0   \n",
      "44  MODEL REFSEQ:  This record is predicted by aut...    3455      0.0   \n",
      "45  MODEL REFSEQ:  This record is predicted by aut...    3451      0.0   \n",
      "46  MODEL REFSEQ:  This record is predicted by aut...    3415      0.0   \n",
      "47  MODEL REFSEQ:  This record is predicted by aut...    3496      0.0   \n",
      "48  MODEL REFSEQ:  This record is predicted by aut...    3093      0.0   \n",
      "49  MODEL REFSEQ:  This record is predicted by aut...    3090      0.0   \n",
      "\n",
      "     score  query_start  query_end  \n",
      "0   7192.0            1       3596  \n",
      "1   7186.0            4       3596  \n",
      "2   7047.0            1       3596  \n",
      "3   6860.0            1       3596  \n",
      "4   6860.0            1       3596  \n",
      "5   6790.0          202       3596  \n",
      "6   6786.0          204       3596  \n",
      "7   6686.0          202       3596  \n",
      "8   6678.0          258       3596  \n",
      "9   6669.0          258       3594  \n",
      "10  6657.0          202       3596  \n",
      "11  6655.0          202       3596  \n",
      "12  6655.0          202       3596  \n",
      "13  6654.0          200       3596  \n",
      "14  6634.0          273       3596  \n",
      "15  6620.0          287       3596  \n",
      "16  6614.0          273       3591  \n",
      "17  6612.0            4       3596  \n",
      "18  6610.0          289       3593  \n",
      "19  6603.0            1       3596  \n",
      "20  6578.0            1       3596  \n",
      "21  6573.0            1       3596  \n",
      "22  6572.0            4       3596  \n",
      "23  6572.0            9       3596  \n",
      "24  6563.0            1       3596  \n",
      "25  6561.0          309       3591  \n",
      "26  6505.0          202       3596  \n",
      "27  6501.0          202       3596  \n",
      "28  6490.0          205       3596  \n",
      "29  6466.0           34       3596  \n",
      "30  6429.0          113       3596  \n",
      "31  6399.0          113       3596  \n",
      "32  6389.0          113       3596  \n",
      "33  6379.0          258       3596  \n",
      "34  6379.0          258       3596  \n",
      "35  6271.0          202       3596  \n",
      "36  6241.0          202       3596  \n",
      "37  6240.0          205       3596  \n",
      "38  6240.0          205       3596  \n",
      "39  6226.0          202       3596  \n",
      "40  6196.0          202       3596  \n",
      "41  6134.0          258       3596  \n",
      "42  6047.0          299       3596  \n",
      "43  6042.0          299       3596  \n",
      "44  5740.0          202       3589  \n",
      "45  5739.0          202       3589  \n",
      "46  5715.0          202       3589  \n",
      "47  5672.0          202       3596  \n",
      "48  5649.0          498       3596  \n",
      "49  5622.0          498       3596  \n"
     ]
    }
   ],
   "execution_count": 21
  },
  {
   "metadata": {
    "ExecuteTime": {
     "end_time": "2025-04-30T13:22:30.415720Z",
     "start_time": "2025-04-30T13:22:30.377769Z"
    }
   },
   "cell_type": "code",
   "source": "",
   "id": "a0c63d13b457fb2b",
   "outputs": [],
   "execution_count": 27
  },
  {
   "metadata": {
    "ExecuteTime": {
     "end_time": "2025-04-30T13:36:59.787643Z",
     "start_time": "2025-04-30T13:36:58.875005Z"
    }
   },
   "cell_type": "code",
   "source": "",
   "id": "42c18cd3c1fbf01d",
   "outputs": [
    {
     "ename": "RuntimeError",
     "evalue": "Failed to import transformers.models.auto.tokenization_auto because of the following error (look up to see its traceback):\nFailed to import transformers.generation.utils because of the following error (look up to see its traceback):\nAll ufuncs must have type `numpy.ufunc`. Received (<ufunc 'sph_legendre_p'>, <ufunc 'sph_legendre_p'>, <ufunc 'sph_legendre_p'>)",
     "output_type": "error",
     "traceback": [
      "\u001B[0;31m---------------------------------------------------------------------------\u001B[0m",
      "\u001B[0;31mValueError\u001B[0m                                Traceback (most recent call last)",
      "File \u001B[0;32m~/anaconda3/envs/QAC387/lib/python3.11/site-packages/transformers/utils/import_utils.py:1863\u001B[0m, in \u001B[0;36m_LazyModule._get_module\u001B[0;34m(self, module_name)\u001B[0m\n\u001B[1;32m   1862\u001B[0m \u001B[38;5;28;01mtry\u001B[39;00m:\n\u001B[0;32m-> 1863\u001B[0m     \u001B[38;5;28;01mreturn\u001B[39;00m importlib\u001B[38;5;241m.\u001B[39mimport_module(\u001B[38;5;124m\"\u001B[39m\u001B[38;5;124m.\u001B[39m\u001B[38;5;124m\"\u001B[39m \u001B[38;5;241m+\u001B[39m module_name, \u001B[38;5;28mself\u001B[39m\u001B[38;5;241m.\u001B[39m\u001B[38;5;18m__name__\u001B[39m)\n\u001B[1;32m   1864\u001B[0m \u001B[38;5;28;01mexcept\u001B[39;00m \u001B[38;5;167;01mException\u001B[39;00m \u001B[38;5;28;01mas\u001B[39;00m e:\n",
      "File \u001B[0;32m~/anaconda3/envs/QAC387/lib/python3.11/importlib/__init__.py:126\u001B[0m, in \u001B[0;36mimport_module\u001B[0;34m(name, package)\u001B[0m\n\u001B[1;32m    125\u001B[0m         level \u001B[38;5;241m+\u001B[39m\u001B[38;5;241m=\u001B[39m \u001B[38;5;241m1\u001B[39m\n\u001B[0;32m--> 126\u001B[0m \u001B[38;5;28;01mreturn\u001B[39;00m _bootstrap\u001B[38;5;241m.\u001B[39m_gcd_import(name[level:], package, level)\n",
      "File \u001B[0;32m<frozen importlib._bootstrap>:1204\u001B[0m, in \u001B[0;36m_gcd_import\u001B[0;34m(name, package, level)\u001B[0m\n",
      "File \u001B[0;32m<frozen importlib._bootstrap>:1176\u001B[0m, in \u001B[0;36m_find_and_load\u001B[0;34m(name, import_)\u001B[0m\n",
      "File \u001B[0;32m<frozen importlib._bootstrap>:1147\u001B[0m, in \u001B[0;36m_find_and_load_unlocked\u001B[0;34m(name, import_)\u001B[0m\n",
      "File \u001B[0;32m<frozen importlib._bootstrap>:690\u001B[0m, in \u001B[0;36m_load_unlocked\u001B[0;34m(spec)\u001B[0m\n",
      "File \u001B[0;32m<frozen importlib._bootstrap_external>:940\u001B[0m, in \u001B[0;36mexec_module\u001B[0;34m(self, module)\u001B[0m\n",
      "File \u001B[0;32m<frozen importlib._bootstrap>:241\u001B[0m, in \u001B[0;36m_call_with_frames_removed\u001B[0;34m(f, *args, **kwds)\u001B[0m\n",
      "File \u001B[0;32m~/anaconda3/envs/QAC387/lib/python3.11/site-packages/transformers/generation/utils.py:53\u001B[0m\n\u001B[1;32m     52\u001B[0m \u001B[38;5;28;01mfrom\u001B[39;00m \u001B[38;5;21;01m.\u001B[39;00m\u001B[38;5;21;01mbeam_search\u001B[39;00m \u001B[38;5;28;01mimport\u001B[39;00m BeamScorer, BeamSearchScorer, ConstrainedBeamSearchScorer\n\u001B[0;32m---> 53\u001B[0m \u001B[38;5;28;01mfrom\u001B[39;00m \u001B[38;5;21;01m.\u001B[39;00m\u001B[38;5;21;01mcandidate_generator\u001B[39;00m \u001B[38;5;28;01mimport\u001B[39;00m (\n\u001B[1;32m     54\u001B[0m     AssistedCandidateGenerator,\n\u001B[1;32m     55\u001B[0m     AssistedCandidateGeneratorDifferentTokenizers,\n\u001B[1;32m     56\u001B[0m     CandidateGenerator,\n\u001B[1;32m     57\u001B[0m     EarlyExitCandidateGenerator,\n\u001B[1;32m     58\u001B[0m     PromptLookupCandidateGenerator,\n\u001B[1;32m     59\u001B[0m     _crop_past_key_values,\n\u001B[1;32m     60\u001B[0m     _prepare_attention_mask,\n\u001B[1;32m     61\u001B[0m     _prepare_token_type_ids,\n\u001B[1;32m     62\u001B[0m )\n\u001B[1;32m     63\u001B[0m \u001B[38;5;28;01mfrom\u001B[39;00m \u001B[38;5;21;01m.\u001B[39;00m\u001B[38;5;21;01mconfiguration_utils\u001B[39;00m \u001B[38;5;28;01mimport\u001B[39;00m (\n\u001B[1;32m     64\u001B[0m     NEED_SETUP_CACHE_CLASSES_MAPPING,\n\u001B[1;32m     65\u001B[0m     QUANT_BACKEND_CLASSES_MAPPING,\n\u001B[1;32m     66\u001B[0m     GenerationConfig,\n\u001B[1;32m     67\u001B[0m     GenerationMode,\n\u001B[1;32m     68\u001B[0m )\n",
      "File \u001B[0;32m~/anaconda3/envs/QAC387/lib/python3.11/site-packages/transformers/generation/candidate_generator.py:26\u001B[0m\n\u001B[1;32m     25\u001B[0m \u001B[38;5;28;01mif\u001B[39;00m is_sklearn_available():\n\u001B[0;32m---> 26\u001B[0m     \u001B[38;5;28;01mfrom\u001B[39;00m \u001B[38;5;21;01msklearn\u001B[39;00m\u001B[38;5;21;01m.\u001B[39;00m\u001B[38;5;21;01mmetrics\u001B[39;00m \u001B[38;5;28;01mimport\u001B[39;00m roc_curve\n\u001B[1;32m     28\u001B[0m \u001B[38;5;28;01mfrom\u001B[39;00m \u001B[38;5;21;01m.\u001B[39;00m\u001B[38;5;21;01m.\u001B[39;00m\u001B[38;5;21;01mcache_utils\u001B[39;00m \u001B[38;5;28;01mimport\u001B[39;00m DynamicCache\n",
      "File \u001B[0;32m~/anaconda3/envs/QAC387/lib/python3.11/site-packages/sklearn/__init__.py:73\u001B[0m\n\u001B[1;32m     69\u001B[0m \u001B[38;5;28;01mfrom\u001B[39;00m \u001B[38;5;21;01m.\u001B[39;00m \u001B[38;5;28;01mimport\u001B[39;00m (  \u001B[38;5;66;03m# noqa: F401 E402\u001B[39;00m\n\u001B[1;32m     70\u001B[0m     __check_build,\n\u001B[1;32m     71\u001B[0m     _distributor_init,\n\u001B[1;32m     72\u001B[0m )\n\u001B[0;32m---> 73\u001B[0m \u001B[38;5;28;01mfrom\u001B[39;00m \u001B[38;5;21;01m.\u001B[39;00m\u001B[38;5;21;01mbase\u001B[39;00m \u001B[38;5;28;01mimport\u001B[39;00m clone  \u001B[38;5;66;03m# noqa: E402\u001B[39;00m\n\u001B[1;32m     74\u001B[0m \u001B[38;5;28;01mfrom\u001B[39;00m \u001B[38;5;21;01m.\u001B[39;00m\u001B[38;5;21;01mutils\u001B[39;00m\u001B[38;5;21;01m.\u001B[39;00m\u001B[38;5;21;01m_show_versions\u001B[39;00m \u001B[38;5;28;01mimport\u001B[39;00m show_versions  \u001B[38;5;66;03m# noqa: E402\u001B[39;00m\n",
      "File \u001B[0;32m~/anaconda3/envs/QAC387/lib/python3.11/site-packages/sklearn/base.py:19\u001B[0m\n\u001B[1;32m     18\u001B[0m \u001B[38;5;28;01mfrom\u001B[39;00m \u001B[38;5;21;01m.\u001B[39;00m\u001B[38;5;21;01mexceptions\u001B[39;00m \u001B[38;5;28;01mimport\u001B[39;00m InconsistentVersionWarning\n\u001B[0;32m---> 19\u001B[0m \u001B[38;5;28;01mfrom\u001B[39;00m \u001B[38;5;21;01m.\u001B[39;00m\u001B[38;5;21;01mutils\u001B[39;00m\u001B[38;5;21;01m.\u001B[39;00m\u001B[38;5;21;01m_estimator_html_repr\u001B[39;00m \u001B[38;5;28;01mimport\u001B[39;00m _HTMLDocumentationLinkMixin, estimator_html_repr\n\u001B[1;32m     20\u001B[0m \u001B[38;5;28;01mfrom\u001B[39;00m \u001B[38;5;21;01m.\u001B[39;00m\u001B[38;5;21;01mutils\u001B[39;00m\u001B[38;5;21;01m.\u001B[39;00m\u001B[38;5;21;01m_metadata_requests\u001B[39;00m \u001B[38;5;28;01mimport\u001B[39;00m _MetadataRequester, _routing_enabled\n",
      "File \u001B[0;32m~/anaconda3/envs/QAC387/lib/python3.11/site-packages/sklearn/utils/__init__.py:15\u001B[0m\n\u001B[1;32m     14\u001B[0m \u001B[38;5;28;01mfrom\u001B[39;00m \u001B[38;5;21;01m.\u001B[39;00m\u001B[38;5;21;01m_bunch\u001B[39;00m \u001B[38;5;28;01mimport\u001B[39;00m Bunch\n\u001B[0;32m---> 15\u001B[0m \u001B[38;5;28;01mfrom\u001B[39;00m \u001B[38;5;21;01m.\u001B[39;00m\u001B[38;5;21;01m_chunking\u001B[39;00m \u001B[38;5;28;01mimport\u001B[39;00m gen_batches, gen_even_slices\n\u001B[1;32m     16\u001B[0m \u001B[38;5;28;01mfrom\u001B[39;00m \u001B[38;5;21;01m.\u001B[39;00m\u001B[38;5;21;01m_estimator_html_repr\u001B[39;00m \u001B[38;5;28;01mimport\u001B[39;00m estimator_html_repr\n",
      "File \u001B[0;32m~/anaconda3/envs/QAC387/lib/python3.11/site-packages/sklearn/utils/_chunking.py:11\u001B[0m\n\u001B[1;32m     10\u001B[0m \u001B[38;5;28;01mfrom\u001B[39;00m \u001B[38;5;21;01m.\u001B[39;00m\u001B[38;5;21;01m.\u001B[39;00m\u001B[38;5;21;01m_config\u001B[39;00m \u001B[38;5;28;01mimport\u001B[39;00m get_config\n\u001B[0;32m---> 11\u001B[0m \u001B[38;5;28;01mfrom\u001B[39;00m \u001B[38;5;21;01m.\u001B[39;00m\u001B[38;5;21;01m_param_validation\u001B[39;00m \u001B[38;5;28;01mimport\u001B[39;00m Interval, validate_params\n\u001B[1;32m     14\u001B[0m \u001B[38;5;28;01mdef\u001B[39;00m \u001B[38;5;21mchunk_generator\u001B[39m(gen, chunksize):\n",
      "File \u001B[0;32m~/anaconda3/envs/QAC387/lib/python3.11/site-packages/sklearn/utils/_param_validation.py:17\u001B[0m\n\u001B[1;32m     16\u001B[0m \u001B[38;5;28;01mfrom\u001B[39;00m \u001B[38;5;21;01m.\u001B[39;00m\u001B[38;5;21;01m.\u001B[39;00m\u001B[38;5;21;01m_config\u001B[39;00m \u001B[38;5;28;01mimport\u001B[39;00m config_context, get_config\n\u001B[0;32m---> 17\u001B[0m \u001B[38;5;28;01mfrom\u001B[39;00m \u001B[38;5;21;01m.\u001B[39;00m\u001B[38;5;21;01mvalidation\u001B[39;00m \u001B[38;5;28;01mimport\u001B[39;00m _is_arraylike_not_scalar\n\u001B[1;32m     20\u001B[0m \u001B[38;5;28;01mclass\u001B[39;00m \u001B[38;5;21;01mInvalidParameterError\u001B[39;00m(\u001B[38;5;167;01mValueError\u001B[39;00m, \u001B[38;5;167;01mTypeError\u001B[39;00m):\n",
      "File \u001B[0;32m~/anaconda3/envs/QAC387/lib/python3.11/site-packages/sklearn/utils/validation.py:21\u001B[0m\n\u001B[1;32m     20\u001B[0m \u001B[38;5;28;01mfrom\u001B[39;00m \u001B[38;5;21;01m.\u001B[39;00m\u001B[38;5;21;01m.\u001B[39;00m\u001B[38;5;21;01mexceptions\u001B[39;00m \u001B[38;5;28;01mimport\u001B[39;00m DataConversionWarning, NotFittedError, PositiveSpectrumWarning\n\u001B[0;32m---> 21\u001B[0m \u001B[38;5;28;01mfrom\u001B[39;00m \u001B[38;5;21;01m.\u001B[39;00m\u001B[38;5;21;01m.\u001B[39;00m\u001B[38;5;21;01mutils\u001B[39;00m\u001B[38;5;21;01m.\u001B[39;00m\u001B[38;5;21;01m_array_api\u001B[39;00m \u001B[38;5;28;01mimport\u001B[39;00m _asarray_with_order, _is_numpy_namespace, get_namespace\n\u001B[1;32m     22\u001B[0m \u001B[38;5;28;01mfrom\u001B[39;00m \u001B[38;5;21;01m.\u001B[39;00m\u001B[38;5;21;01m.\u001B[39;00m\u001B[38;5;21;01mutils\u001B[39;00m\u001B[38;5;21;01m.\u001B[39;00m\u001B[38;5;21;01mdeprecation\u001B[39;00m \u001B[38;5;28;01mimport\u001B[39;00m _deprecate_force_all_finite\n",
      "File \u001B[0;32m~/anaconda3/envs/QAC387/lib/python3.11/site-packages/sklearn/utils/_array_api.py:14\u001B[0m\n\u001B[1;32m     13\u001B[0m \u001B[38;5;28;01mimport\u001B[39;00m \u001B[38;5;21;01mscipy\u001B[39;00m\u001B[38;5;21;01m.\u001B[39;00m\u001B[38;5;21;01msparse\u001B[39;00m \u001B[38;5;28;01mas\u001B[39;00m \u001B[38;5;21;01msp\u001B[39;00m\n\u001B[0;32m---> 14\u001B[0m \u001B[38;5;28;01mimport\u001B[39;00m \u001B[38;5;21;01mscipy\u001B[39;00m\u001B[38;5;21;01m.\u001B[39;00m\u001B[38;5;21;01mspecial\u001B[39;00m \u001B[38;5;28;01mas\u001B[39;00m \u001B[38;5;21;01mspecial\u001B[39;00m\n\u001B[1;32m     16\u001B[0m \u001B[38;5;28;01mfrom\u001B[39;00m \u001B[38;5;21;01m.\u001B[39;00m\u001B[38;5;21;01m.\u001B[39;00m\u001B[38;5;21;01m_config\u001B[39;00m \u001B[38;5;28;01mimport\u001B[39;00m get_config\n",
      "File \u001B[0;32m~/anaconda3/envs/QAC387/lib/python3.11/site-packages/scipy/special/__init__.py:826\u001B[0m\n\u001B[1;32m    821\u001B[0m \u001B[38;5;28;01mfrom\u001B[39;00m \u001B[38;5;21;01m.\u001B[39;00m\u001B[38;5;21;01m_support_alternative_backends\u001B[39;00m \u001B[38;5;28;01mimport\u001B[39;00m (\n\u001B[1;32m    822\u001B[0m     log_ndtr, ndtr, ndtri, erf, erfc, i0, i0e, i1, i1e, gammaln,\n\u001B[1;32m    823\u001B[0m     gammainc, gammaincc, logit, expit, entr, rel_entr, xlogy,\n\u001B[1;32m    824\u001B[0m     chdtr, chdtrc, betainc, betaincc, stdtr)\n\u001B[0;32m--> 826\u001B[0m \u001B[38;5;28;01mfrom\u001B[39;00m \u001B[38;5;21;01m.\u001B[39;00m \u001B[38;5;28;01mimport\u001B[39;00m _basic\n\u001B[1;32m    827\u001B[0m \u001B[38;5;28;01mfrom\u001B[39;00m \u001B[38;5;21;01m.\u001B[39;00m\u001B[38;5;21;01m_basic\u001B[39;00m \u001B[38;5;28;01mimport\u001B[39;00m \u001B[38;5;241m*\u001B[39m\n",
      "File \u001B[0;32m~/anaconda3/envs/QAC387/lib/python3.11/site-packages/scipy/special/_basic.py:22\u001B[0m\n\u001B[1;32m     21\u001B[0m \u001B[38;5;28;01mfrom\u001B[39;00m \u001B[38;5;21;01m.\u001B[39;00m\u001B[38;5;21;01m_comb\u001B[39;00m \u001B[38;5;28;01mimport\u001B[39;00m _comb_int\n\u001B[0;32m---> 22\u001B[0m \u001B[38;5;28;01mfrom\u001B[39;00m \u001B[38;5;21;01m.\u001B[39;00m\u001B[38;5;21;01m_multiufuncs\u001B[39;00m \u001B[38;5;28;01mimport\u001B[39;00m (assoc_legendre_p_all,\n\u001B[1;32m     23\u001B[0m                            legendre_p_all)\n\u001B[1;32m     24\u001B[0m \u001B[38;5;28;01mfrom\u001B[39;00m \u001B[38;5;21;01mscipy\u001B[39;00m\u001B[38;5;21;01m.\u001B[39;00m\u001B[38;5;21;01m_lib\u001B[39;00m\u001B[38;5;21;01m.\u001B[39;00m\u001B[38;5;21;01mdeprecation\u001B[39;00m \u001B[38;5;28;01mimport\u001B[39;00m _deprecated\n",
      "File \u001B[0;32m~/anaconda3/envs/QAC387/lib/python3.11/site-packages/scipy/special/_multiufuncs.py:142\u001B[0m\n\u001B[1;32m    139\u001B[0m         \u001B[38;5;28;01mreturn\u001B[39;00m out\n\u001B[0;32m--> 142\u001B[0m sph_legendre_p \u001B[38;5;241m=\u001B[39m MultiUFunc(\n\u001B[1;32m    143\u001B[0m     sph_legendre_p,\n\u001B[1;32m    144\u001B[0m \u001B[38;5;250m    \u001B[39m\u001B[38;5;124mr\u001B[39m\u001B[38;5;124;03m\"\"\"sph_legendre_p(n, m, theta, *, diff_n=0)\u001B[39;00m\n\u001B[1;32m    145\u001B[0m \n\u001B[1;32m    146\u001B[0m \u001B[38;5;124;03m    Spherical Legendre polynomial of the first kind.\u001B[39;00m\n\u001B[1;32m    147\u001B[0m \n\u001B[1;32m    148\u001B[0m \u001B[38;5;124;03m    Parameters\u001B[39;00m\n\u001B[1;32m    149\u001B[0m \u001B[38;5;124;03m    ----------\u001B[39;00m\n\u001B[1;32m    150\u001B[0m \u001B[38;5;124;03m    n : ArrayLike[int]\u001B[39;00m\n\u001B[1;32m    151\u001B[0m \u001B[38;5;124;03m        Degree of the spherical Legendre polynomial. Must have ``n >= 0``.\u001B[39;00m\n\u001B[1;32m    152\u001B[0m \u001B[38;5;124;03m    m : ArrayLike[int]\u001B[39;00m\n\u001B[1;32m    153\u001B[0m \u001B[38;5;124;03m        Order of the spherical Legendre polynomial.\u001B[39;00m\n\u001B[1;32m    154\u001B[0m \u001B[38;5;124;03m    theta : ArrayLike[float]\u001B[39;00m\n\u001B[1;32m    155\u001B[0m \u001B[38;5;124;03m        Input value.\u001B[39;00m\n\u001B[1;32m    156\u001B[0m \u001B[38;5;124;03m    diff_n : Optional[int]\u001B[39;00m\n\u001B[1;32m    157\u001B[0m \u001B[38;5;124;03m        A non-negative integer. Compute and return all derivatives up\u001B[39;00m\n\u001B[1;32m    158\u001B[0m \u001B[38;5;124;03m        to order ``diff_n``. Default is 0.\u001B[39;00m\n\u001B[1;32m    159\u001B[0m \n\u001B[1;32m    160\u001B[0m \u001B[38;5;124;03m    Returns\u001B[39;00m\n\u001B[1;32m    161\u001B[0m \u001B[38;5;124;03m    -------\u001B[39;00m\n\u001B[1;32m    162\u001B[0m \u001B[38;5;124;03m    p : ndarray or tuple[ndarray]\u001B[39;00m\n\u001B[1;32m    163\u001B[0m \u001B[38;5;124;03m        Spherical Legendre polynomial with ``diff_n`` derivatives.\u001B[39;00m\n\u001B[1;32m    164\u001B[0m \n\u001B[1;32m    165\u001B[0m \u001B[38;5;124;03m    Notes\u001B[39;00m\n\u001B[1;32m    166\u001B[0m \u001B[38;5;124;03m    -----\u001B[39;00m\n\u001B[1;32m    167\u001B[0m \u001B[38;5;124;03m    The spherical counterpart of an (unnormalized) associated Legendre polynomial has\u001B[39;00m\n\u001B[1;32m    168\u001B[0m \u001B[38;5;124;03m    the additional factor\u001B[39;00m\n\u001B[1;32m    169\u001B[0m \n\u001B[1;32m    170\u001B[0m \u001B[38;5;124;03m    .. math::\u001B[39;00m\n\u001B[1;32m    171\u001B[0m \n\u001B[1;32m    172\u001B[0m \u001B[38;5;124;03m        \\sqrt{\\frac{(2 n + 1) (n - m)!}{4 \\pi (n + m)!}}\u001B[39;00m\n\u001B[1;32m    173\u001B[0m \n\u001B[1;32m    174\u001B[0m \u001B[38;5;124;03m    It is the same as the spherical harmonic :math:`Y_{n}^{m}(\\theta, \\phi)`\u001B[39;00m\n\u001B[1;32m    175\u001B[0m \u001B[38;5;124;03m    with :math:`\\phi = 0`.\u001B[39;00m\n\u001B[1;32m    176\u001B[0m \u001B[38;5;124;03m    \"\"\"\u001B[39;00m, diff_n\u001B[38;5;241m=\u001B[39m\u001B[38;5;241m0\u001B[39m\n\u001B[1;32m    177\u001B[0m )\n\u001B[1;32m    180\u001B[0m \u001B[38;5;129m@sph_legendre_p\u001B[39m\u001B[38;5;241m.\u001B[39m_override_key\n\u001B[1;32m    181\u001B[0m \u001B[38;5;28;01mdef\u001B[39;00m \u001B[38;5;21m_\u001B[39m(diff_n):\n",
      "File \u001B[0;32m~/anaconda3/envs/QAC387/lib/python3.11/site-packages/scipy/special/_multiufuncs.py:41\u001B[0m, in \u001B[0;36mMultiUFunc.__init__\u001B[0;34m(self, ufunc_or_ufuncs, doc, force_complex_output, **default_kwargs)\u001B[0m\n\u001B[1;32m     40\u001B[0m \u001B[38;5;28;01mif\u001B[39;00m \u001B[38;5;129;01mnot\u001B[39;00m \u001B[38;5;28misinstance\u001B[39m(ufunc, np\u001B[38;5;241m.\u001B[39mufunc):\n\u001B[0;32m---> 41\u001B[0m     \u001B[38;5;28;01mraise\u001B[39;00m \u001B[38;5;167;01mValueError\u001B[39;00m(\u001B[38;5;124m\"\u001B[39m\u001B[38;5;124mAll ufuncs must have type `numpy.ufunc`.\u001B[39m\u001B[38;5;124m\"\u001B[39m\n\u001B[1;32m     42\u001B[0m                      \u001B[38;5;124mf\u001B[39m\u001B[38;5;124m\"\u001B[39m\u001B[38;5;124m Received \u001B[39m\u001B[38;5;132;01m{\u001B[39;00mufunc_or_ufuncs\u001B[38;5;132;01m}\u001B[39;00m\u001B[38;5;124m\"\u001B[39m)\n\u001B[1;32m     43\u001B[0m seen_input_types\u001B[38;5;241m.\u001B[39madd(\u001B[38;5;28mfrozenset\u001B[39m(x\u001B[38;5;241m.\u001B[39msplit(\u001B[38;5;124m\"\u001B[39m\u001B[38;5;124m->\u001B[39m\u001B[38;5;124m\"\u001B[39m)[\u001B[38;5;241m0\u001B[39m] \u001B[38;5;28;01mfor\u001B[39;00m x \u001B[38;5;129;01min\u001B[39;00m ufunc\u001B[38;5;241m.\u001B[39mtypes))\n",
      "\u001B[0;31mValueError\u001B[0m: All ufuncs must have type `numpy.ufunc`. Received (<ufunc 'sph_legendre_p'>, <ufunc 'sph_legendre_p'>, <ufunc 'sph_legendre_p'>)",
      "\nThe above exception was the direct cause of the following exception:\n",
      "\u001B[0;31mRuntimeError\u001B[0m                              Traceback (most recent call last)",
      "File \u001B[0;32m~/anaconda3/envs/QAC387/lib/python3.11/site-packages/transformers/utils/import_utils.py:1863\u001B[0m, in \u001B[0;36m_LazyModule._get_module\u001B[0;34m(self, module_name)\u001B[0m\n\u001B[1;32m   1862\u001B[0m \u001B[38;5;28;01mtry\u001B[39;00m:\n\u001B[0;32m-> 1863\u001B[0m     \u001B[38;5;28;01mreturn\u001B[39;00m importlib\u001B[38;5;241m.\u001B[39mimport_module(\u001B[38;5;124m\"\u001B[39m\u001B[38;5;124m.\u001B[39m\u001B[38;5;124m\"\u001B[39m \u001B[38;5;241m+\u001B[39m module_name, \u001B[38;5;28mself\u001B[39m\u001B[38;5;241m.\u001B[39m\u001B[38;5;18m__name__\u001B[39m)\n\u001B[1;32m   1864\u001B[0m \u001B[38;5;28;01mexcept\u001B[39;00m \u001B[38;5;167;01mException\u001B[39;00m \u001B[38;5;28;01mas\u001B[39;00m e:\n",
      "File \u001B[0;32m~/anaconda3/envs/QAC387/lib/python3.11/importlib/__init__.py:126\u001B[0m, in \u001B[0;36mimport_module\u001B[0;34m(name, package)\u001B[0m\n\u001B[1;32m    125\u001B[0m         level \u001B[38;5;241m+\u001B[39m\u001B[38;5;241m=\u001B[39m \u001B[38;5;241m1\u001B[39m\n\u001B[0;32m--> 126\u001B[0m \u001B[38;5;28;01mreturn\u001B[39;00m _bootstrap\u001B[38;5;241m.\u001B[39m_gcd_import(name[level:], package, level)\n",
      "File \u001B[0;32m<frozen importlib._bootstrap>:1204\u001B[0m, in \u001B[0;36m_gcd_import\u001B[0;34m(name, package, level)\u001B[0m\n",
      "File \u001B[0;32m<frozen importlib._bootstrap>:1176\u001B[0m, in \u001B[0;36m_find_and_load\u001B[0;34m(name, import_)\u001B[0m\n",
      "File \u001B[0;32m<frozen importlib._bootstrap>:1147\u001B[0m, in \u001B[0;36m_find_and_load_unlocked\u001B[0;34m(name, import_)\u001B[0m\n",
      "File \u001B[0;32m<frozen importlib._bootstrap>:690\u001B[0m, in \u001B[0;36m_load_unlocked\u001B[0;34m(spec)\u001B[0m\n",
      "File \u001B[0;32m<frozen importlib._bootstrap_external>:940\u001B[0m, in \u001B[0;36mexec_module\u001B[0;34m(self, module)\u001B[0m\n",
      "File \u001B[0;32m<frozen importlib._bootstrap>:241\u001B[0m, in \u001B[0;36m_call_with_frames_removed\u001B[0;34m(f, *args, **kwds)\u001B[0m\n",
      "File \u001B[0;32m~/anaconda3/envs/QAC387/lib/python3.11/site-packages/transformers/models/auto/tokenization_auto.py:38\u001B[0m\n\u001B[1;32m     37\u001B[0m \u001B[38;5;28;01mfrom\u001B[39;00m \u001B[38;5;21;01m.\u001B[39;00m\u001B[38;5;21;01m.\u001B[39;00m\u001B[38;5;21;01mencoder_decoder\u001B[39;00m \u001B[38;5;28;01mimport\u001B[39;00m EncoderDecoderConfig\n\u001B[0;32m---> 38\u001B[0m \u001B[38;5;28;01mfrom\u001B[39;00m \u001B[38;5;21;01m.\u001B[39;00m\u001B[38;5;21;01mauto_factory\u001B[39;00m \u001B[38;5;28;01mimport\u001B[39;00m _LazyAutoMapping\n\u001B[1;32m     39\u001B[0m \u001B[38;5;28;01mfrom\u001B[39;00m \u001B[38;5;21;01m.\u001B[39;00m\u001B[38;5;21;01mconfiguration_auto\u001B[39;00m \u001B[38;5;28;01mimport\u001B[39;00m (\n\u001B[1;32m     40\u001B[0m     CONFIG_MAPPING_NAMES,\n\u001B[1;32m     41\u001B[0m     AutoConfig,\n\u001B[0;32m   (...)\u001B[0m\n\u001B[1;32m     44\u001B[0m     replace_list_option_in_docstrings,\n\u001B[1;32m     45\u001B[0m )\n",
      "File \u001B[0;32m~/anaconda3/envs/QAC387/lib/python3.11/site-packages/transformers/models/auto/auto_factory.py:40\u001B[0m\n\u001B[1;32m     39\u001B[0m \u001B[38;5;28;01mif\u001B[39;00m is_torch_available():\n\u001B[0;32m---> 40\u001B[0m     \u001B[38;5;28;01mfrom\u001B[39;00m \u001B[38;5;21;01m.\u001B[39;00m\u001B[38;5;21;01m.\u001B[39;00m\u001B[38;5;21;01m.\u001B[39;00m\u001B[38;5;21;01mgeneration\u001B[39;00m \u001B[38;5;28;01mimport\u001B[39;00m GenerationMixin\n\u001B[1;32m     43\u001B[0m logger \u001B[38;5;241m=\u001B[39m logging\u001B[38;5;241m.\u001B[39mget_logger(\u001B[38;5;18m__name__\u001B[39m)\n",
      "File \u001B[0;32m<frozen importlib._bootstrap>:1229\u001B[0m, in \u001B[0;36m_handle_fromlist\u001B[0;34m(module, fromlist, import_, recursive)\u001B[0m\n",
      "File \u001B[0;32m~/anaconda3/envs/QAC387/lib/python3.11/site-packages/transformers/utils/import_utils.py:1851\u001B[0m, in \u001B[0;36m_LazyModule.__getattr__\u001B[0;34m(self, name)\u001B[0m\n\u001B[1;32m   1850\u001B[0m \u001B[38;5;28;01melif\u001B[39;00m name \u001B[38;5;129;01min\u001B[39;00m \u001B[38;5;28mself\u001B[39m\u001B[38;5;241m.\u001B[39m_class_to_module\u001B[38;5;241m.\u001B[39mkeys():\n\u001B[0;32m-> 1851\u001B[0m     module \u001B[38;5;241m=\u001B[39m \u001B[38;5;28mself\u001B[39m\u001B[38;5;241m.\u001B[39m_get_module(\u001B[38;5;28mself\u001B[39m\u001B[38;5;241m.\u001B[39m_class_to_module[name])\n\u001B[1;32m   1852\u001B[0m     value \u001B[38;5;241m=\u001B[39m \u001B[38;5;28mgetattr\u001B[39m(module, name)\n",
      "File \u001B[0;32m~/anaconda3/envs/QAC387/lib/python3.11/site-packages/transformers/utils/import_utils.py:1865\u001B[0m, in \u001B[0;36m_LazyModule._get_module\u001B[0;34m(self, module_name)\u001B[0m\n\u001B[1;32m   1864\u001B[0m \u001B[38;5;28;01mexcept\u001B[39;00m \u001B[38;5;167;01mException\u001B[39;00m \u001B[38;5;28;01mas\u001B[39;00m e:\n\u001B[0;32m-> 1865\u001B[0m     \u001B[38;5;28;01mraise\u001B[39;00m \u001B[38;5;167;01mRuntimeError\u001B[39;00m(\n\u001B[1;32m   1866\u001B[0m         \u001B[38;5;124mf\u001B[39m\u001B[38;5;124m\"\u001B[39m\u001B[38;5;124mFailed to import \u001B[39m\u001B[38;5;132;01m{\u001B[39;00m\u001B[38;5;28mself\u001B[39m\u001B[38;5;241m.\u001B[39m\u001B[38;5;18m__name__\u001B[39m\u001B[38;5;132;01m}\u001B[39;00m\u001B[38;5;124m.\u001B[39m\u001B[38;5;132;01m{\u001B[39;00mmodule_name\u001B[38;5;132;01m}\u001B[39;00m\u001B[38;5;124m because of the following error (look up to see its\u001B[39m\u001B[38;5;124m\"\u001B[39m\n\u001B[1;32m   1867\u001B[0m         \u001B[38;5;124mf\u001B[39m\u001B[38;5;124m\"\u001B[39m\u001B[38;5;124m traceback):\u001B[39m\u001B[38;5;130;01m\\n\u001B[39;00m\u001B[38;5;132;01m{\u001B[39;00me\u001B[38;5;132;01m}\u001B[39;00m\u001B[38;5;124m\"\u001B[39m\n\u001B[1;32m   1868\u001B[0m     ) \u001B[38;5;28;01mfrom\u001B[39;00m \u001B[38;5;21;01me\u001B[39;00m\n",
      "\u001B[0;31mRuntimeError\u001B[0m: Failed to import transformers.generation.utils because of the following error (look up to see its traceback):\nAll ufuncs must have type `numpy.ufunc`. Received (<ufunc 'sph_legendre_p'>, <ufunc 'sph_legendre_p'>, <ufunc 'sph_legendre_p'>)",
      "\nThe above exception was the direct cause of the following exception:\n",
      "\u001B[0;31mRuntimeError\u001B[0m                              Traceback (most recent call last)",
      "Cell \u001B[0;32mIn[2], line 1\u001B[0m\n\u001B[0;32m----> 1\u001B[0m \u001B[38;5;28;01mfrom\u001B[39;00m \u001B[38;5;21;01mtransformers\u001B[39;00m \u001B[38;5;28;01mimport\u001B[39;00m AutoTokenizer, AutoModel\n",
      "File \u001B[0;32m<frozen importlib._bootstrap>:1229\u001B[0m, in \u001B[0;36m_handle_fromlist\u001B[0;34m(module, fromlist, import_, recursive)\u001B[0m\n",
      "File \u001B[0;32m~/anaconda3/envs/QAC387/lib/python3.11/site-packages/transformers/utils/import_utils.py:1852\u001B[0m, in \u001B[0;36m_LazyModule.__getattr__\u001B[0;34m(self, name)\u001B[0m\n\u001B[1;32m   1850\u001B[0m \u001B[38;5;28;01melif\u001B[39;00m name \u001B[38;5;129;01min\u001B[39;00m \u001B[38;5;28mself\u001B[39m\u001B[38;5;241m.\u001B[39m_class_to_module\u001B[38;5;241m.\u001B[39mkeys():\n\u001B[1;32m   1851\u001B[0m     module \u001B[38;5;241m=\u001B[39m \u001B[38;5;28mself\u001B[39m\u001B[38;5;241m.\u001B[39m_get_module(\u001B[38;5;28mself\u001B[39m\u001B[38;5;241m.\u001B[39m_class_to_module[name])\n\u001B[0;32m-> 1852\u001B[0m     value \u001B[38;5;241m=\u001B[39m \u001B[38;5;28mgetattr\u001B[39m(module, name)\n\u001B[1;32m   1853\u001B[0m \u001B[38;5;28;01melif\u001B[39;00m name \u001B[38;5;129;01min\u001B[39;00m \u001B[38;5;28mself\u001B[39m\u001B[38;5;241m.\u001B[39m_modules:\n\u001B[1;32m   1854\u001B[0m     value \u001B[38;5;241m=\u001B[39m \u001B[38;5;28mself\u001B[39m\u001B[38;5;241m.\u001B[39m_get_module(name)\n",
      "File \u001B[0;32m~/anaconda3/envs/QAC387/lib/python3.11/site-packages/transformers/utils/import_utils.py:1851\u001B[0m, in \u001B[0;36m_LazyModule.__getattr__\u001B[0;34m(self, name)\u001B[0m\n\u001B[1;32m   1849\u001B[0m     value \u001B[38;5;241m=\u001B[39m Placeholder\n\u001B[1;32m   1850\u001B[0m \u001B[38;5;28;01melif\u001B[39;00m name \u001B[38;5;129;01min\u001B[39;00m \u001B[38;5;28mself\u001B[39m\u001B[38;5;241m.\u001B[39m_class_to_module\u001B[38;5;241m.\u001B[39mkeys():\n\u001B[0;32m-> 1851\u001B[0m     module \u001B[38;5;241m=\u001B[39m \u001B[38;5;28mself\u001B[39m\u001B[38;5;241m.\u001B[39m_get_module(\u001B[38;5;28mself\u001B[39m\u001B[38;5;241m.\u001B[39m_class_to_module[name])\n\u001B[1;32m   1852\u001B[0m     value \u001B[38;5;241m=\u001B[39m \u001B[38;5;28mgetattr\u001B[39m(module, name)\n\u001B[1;32m   1853\u001B[0m \u001B[38;5;28;01melif\u001B[39;00m name \u001B[38;5;129;01min\u001B[39;00m \u001B[38;5;28mself\u001B[39m\u001B[38;5;241m.\u001B[39m_modules:\n",
      "File \u001B[0;32m~/anaconda3/envs/QAC387/lib/python3.11/site-packages/transformers/utils/import_utils.py:1865\u001B[0m, in \u001B[0;36m_LazyModule._get_module\u001B[0;34m(self, module_name)\u001B[0m\n\u001B[1;32m   1863\u001B[0m     \u001B[38;5;28;01mreturn\u001B[39;00m importlib\u001B[38;5;241m.\u001B[39mimport_module(\u001B[38;5;124m\"\u001B[39m\u001B[38;5;124m.\u001B[39m\u001B[38;5;124m\"\u001B[39m \u001B[38;5;241m+\u001B[39m module_name, \u001B[38;5;28mself\u001B[39m\u001B[38;5;241m.\u001B[39m\u001B[38;5;18m__name__\u001B[39m)\n\u001B[1;32m   1864\u001B[0m \u001B[38;5;28;01mexcept\u001B[39;00m \u001B[38;5;167;01mException\u001B[39;00m \u001B[38;5;28;01mas\u001B[39;00m e:\n\u001B[0;32m-> 1865\u001B[0m     \u001B[38;5;28;01mraise\u001B[39;00m \u001B[38;5;167;01mRuntimeError\u001B[39;00m(\n\u001B[1;32m   1866\u001B[0m         \u001B[38;5;124mf\u001B[39m\u001B[38;5;124m\"\u001B[39m\u001B[38;5;124mFailed to import \u001B[39m\u001B[38;5;132;01m{\u001B[39;00m\u001B[38;5;28mself\u001B[39m\u001B[38;5;241m.\u001B[39m\u001B[38;5;18m__name__\u001B[39m\u001B[38;5;132;01m}\u001B[39;00m\u001B[38;5;124m.\u001B[39m\u001B[38;5;132;01m{\u001B[39;00mmodule_name\u001B[38;5;132;01m}\u001B[39;00m\u001B[38;5;124m because of the following error (look up to see its\u001B[39m\u001B[38;5;124m\"\u001B[39m\n\u001B[1;32m   1867\u001B[0m         \u001B[38;5;124mf\u001B[39m\u001B[38;5;124m\"\u001B[39m\u001B[38;5;124m traceback):\u001B[39m\u001B[38;5;130;01m\\n\u001B[39;00m\u001B[38;5;132;01m{\u001B[39;00me\u001B[38;5;132;01m}\u001B[39;00m\u001B[38;5;124m\"\u001B[39m\n\u001B[1;32m   1868\u001B[0m     ) \u001B[38;5;28;01mfrom\u001B[39;00m \u001B[38;5;21;01me\u001B[39;00m\n",
      "\u001B[0;31mRuntimeError\u001B[0m: Failed to import transformers.models.auto.tokenization_auto because of the following error (look up to see its traceback):\nFailed to import transformers.generation.utils because of the following error (look up to see its traceback):\nAll ufuncs must have type `numpy.ufunc`. Received (<ufunc 'sph_legendre_p'>, <ufunc 'sph_legendre_p'>, <ufunc 'sph_legendre_p'>)"
     ]
    }
   ],
   "execution_count": 2
  },
  {
   "metadata": {},
   "cell_type": "code",
   "outputs": [],
   "execution_count": null,
   "source": "",
   "id": "ebe11e580e8c6b14"
  },
  {
   "metadata": {},
   "cell_type": "code",
   "outputs": [],
   "execution_count": null,
   "source": "",
   "id": "eecdf3c652a3ec24"
  }
 ],
 "metadata": {
  "kernelspec": {
   "display_name": "Python 3",
   "language": "python",
   "name": "python3"
  },
  "language_info": {
   "codemirror_mode": {
    "name": "ipython",
    "version": 2
   },
   "file_extension": ".py",
   "mimetype": "text/x-python",
   "name": "python",
   "nbconvert_exporter": "python",
   "pygments_lexer": "ipython2",
   "version": "2.7.6"
  }
 },
 "nbformat": 4,
 "nbformat_minor": 5
}
