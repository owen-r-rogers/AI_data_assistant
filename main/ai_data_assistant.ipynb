{
 "cells": [
  {
   "cell_type": "code",
   "id": "initial_id",
   "metadata": {
    "collapsed": true,
    "ExecuteTime": {
     "end_time": "2025-05-04T19:46:34.033812Z",
     "start_time": "2025-05-04T19:46:32.237432Z"
    }
   },
   "source": "from utils.data_assistant_utils import *",
   "outputs": [],
   "execution_count": 1
  },
  {
   "metadata": {},
   "cell_type": "markdown",
   "source": [
    "### Get the accession number using openAI\n",
    "\n",
    "---"
   ],
   "id": "c9a547b712be050c"
  },
  {
   "metadata": {
    "ExecuteTime": {
     "end_time": "2025-05-04T19:46:41.276664Z",
     "start_time": "2025-05-04T19:46:34.720232Z"
    }
   },
   "cell_type": "code",
   "source": [
    "accession = get_accession('You are an expert in the NCBI accession number formatting.',\n",
    "                          'What is the NCBI accession number for the nucleotide sequence of the ACE2 receptor in humans?')"
   ],
   "id": "3bf03178db1a799",
   "outputs": [],
   "execution_count": 2
  },
  {
   "metadata": {},
   "cell_type": "markdown",
   "source": "#### Print accession number to make sure that it looks valid",
   "id": "2e3aaa5b95d7e5f3"
  },
  {
   "metadata": {
    "ExecuteTime": {
     "end_time": "2025-05-04T19:46:42.546174Z",
     "start_time": "2025-05-04T19:46:42.542729Z"
    }
   },
   "cell_type": "code",
   "source": "print(accession)",
   "id": "89d323e1ee50db01",
   "outputs": [
    {
     "name": "stdout",
     "output_type": "stream",
     "text": [
      "NM_021804\n"
     ]
    }
   ],
   "execution_count": 3
  },
  {
   "metadata": {},
   "cell_type": "markdown",
   "source": [
    "### Get the SeqRecord object based on that accession number\n",
    "\n",
    "---"
   ],
   "id": "e37956d1d7bc0fc9"
  },
  {
   "metadata": {
    "ExecuteTime": {
     "end_time": "2025-05-04T19:46:45.111344Z",
     "start_time": "2025-05-04T19:46:44.686839Z"
    }
   },
   "cell_type": "code",
   "source": "record = fetch_sequence(accession, email='orogers@wesleyan.edu')",
   "id": "d1a543a84fd9beb7",
   "outputs": [
    {
     "name": "stdout",
     "output_type": "stream",
     "text": [
      "The sequence in GB format for ID NM_021804.3:\n",
      "GGCACTCATACATACACTCTGGCAATGAGGACACTGAGCTCGCTTCTGAA\n",
      "\n",
      "Homo sapiens angiotensin converting enzyme 2 (ACE2), transcript variant 2, mRNA\n"
     ]
    }
   ],
   "execution_count": 4
  },
  {
   "metadata": {
    "ExecuteTime": {
     "end_time": "2025-05-04T19:46:47.003503Z",
     "start_time": "2025-05-04T19:46:46.997860Z"
    }
   },
   "cell_type": "code",
   "source": "sequence = record.seq",
   "id": "6070706a3710d056",
   "outputs": [],
   "execution_count": 5
  },
  {
   "metadata": {
    "ExecuteTime": {
     "end_time": "2025-05-04T19:46:47.942398Z",
     "start_time": "2025-05-04T19:46:47.937495Z"
    }
   },
   "cell_type": "code",
   "source": "sequence",
   "id": "8606b26e4ee5b471",
   "outputs": [
    {
     "data": {
      "text/plain": [
       "Seq('GGCACTCATACATACACTCTGGCAATGAGGACACTGAGCTCGCTTCTGAAATTT...CTC')"
      ]
     },
     "execution_count": 6,
     "metadata": {},
     "output_type": "execute_result"
    }
   ],
   "execution_count": 6
  },
  {
   "metadata": {},
   "cell_type": "markdown",
   "source": [
    "### Perform a Nucleotide BLAST\n",
    "\n",
    "---"
   ],
   "id": "579b356bfb01718c"
  },
  {
   "metadata": {
    "ExecuteTime": {
     "end_time": "2025-05-04T19:47:52.839758Z",
     "start_time": "2025-05-04T19:46:51.569337Z"
    }
   },
   "cell_type": "code",
   "source": "handle = nucleotide_blast(sequence)",
   "id": "691364de93054425",
   "outputs": [],
   "execution_count": 7
  },
  {
   "metadata": {},
   "cell_type": "markdown",
   "source": "#### Process the results handle",
   "id": "d120f83726fd6be8"
  },
  {
   "metadata": {
    "ExecuteTime": {
     "end_time": "2025-05-04T19:48:17.336274Z",
     "start_time": "2025-05-04T19:47:58.131139Z"
    }
   },
   "cell_type": "code",
   "source": "processed_stream = process_stream(handle, save=False, save_name='4May')",
   "id": "e93155836398e353",
   "outputs": [
    {
     "name": "stdout",
     "output_type": "stream",
     "text": [
      "The sequence in GB format for ID NM_021804.3:\n",
      "GGCACTCATACATACACTCTGGCAATGAGGACACTGAGCTCGCTTCTGAA\n",
      "\n",
      "Homo sapiens angiotensin converting enzyme 2 (ACE2), transcript variant 2, mRNA\n",
      "The sequence in GB format for ID AB193259.1:\n",
      "ACTCATACATACACTCTGGCAATGAGGACACTGAGCTCGCTTCTGAAATT\n",
      "\n",
      "Homo sapiens ace2 mRNA for angiotensin-converting enzyme 2, complete cds, tissue_type: lung\n",
      "Accession number AB193259.1 does not have a summary\n",
      "The sequence in GB format for ID XM_055376642.1:\n",
      "GGCACTCATACATACACTCTGGCAATGAGAACACTGAGCTCGCTTCTGAA\n",
      "\n",
      "PREDICTED: Gorilla gorilla gorilla angiotensin converting enzyme 2 (ACE2), transcript variant X4, mRNA\n",
      "The sequence in GB format for ID XM_063634561.1:\n",
      "GGCACTCATACATACACTCTGGCAGTGAGGACACTGAGCTCGCTTCTGAA\n",
      "\n",
      "PREDICTED: Symphalangus syndactylus angiotensin converting enzyme 2 (ACE2), transcript variant X1, mRNA\n",
      "The sequence in GB format for ID XM_003261084.3:\n",
      "GGCACTCATACATACACTCTGGCAGTGAGGACACTGAGCTCGCTTCTGAA\n",
      "\n",
      "PREDICTED: Nomascus leucogenys angiotensin I converting enzyme 2 (ACE2), mRNA\n",
      "The sequence in GB format for ID AB193260.1:\n",
      "TATTGGCTCAGCAGATTGTTTACTGTGTTCTTCTTCTTTTTCTTTTTTTG\n",
      "\n",
      "Homo sapiens ace2 mRNA for angiotensin-converting enzyme 2, complete cds, tissue_type: testis\n",
      "Accession number AB193260.1 does not have a summary\n",
      "The sequence in GB format for ID AF241254.1:\n",
      "CGCCCAACCCAAGTTCAAAGGCTGATAAGAGAGAAAATCTCATGAGGAGG\n",
      "\n",
      "Homo sapiens angiotensin converting enzyme-like protein mRNA, complete cds\n",
      "Accession number AF241254.1 does not have a summary\n",
      "The sequence in GB format for ID XM_008974180.3:\n",
      "ACTGTGTTCTTCTTCTTTTTCTTTTTTTGGTCTTTCCTGCTCAGCGCCCA\n",
      "\n",
      "PREDICTED: Pan paniscus angiotensin converting enzyme 2 (ACE2), mRNA\n",
      "The sequence in GB format for ID NM_001371415.1:\n",
      "AGTCTAGGGAAAGTCATTCAGTGGATGTGATCTTGGCTCACAGGGGACGA\n",
      "\n",
      "Homo sapiens angiotensin converting enzyme 2 (ACE2), transcript variant 1, mRNA\n",
      "The sequence in GB format for ID BC059378.1:\n",
      "AGTCTAGGGAAAGTCATTCAGTGGATGTGATCTTGGCTCACAGGGGACGA\n",
      "\n",
      "Homo sapiens cDNA clone IMAGE:5296531, partial cds\n",
      "The sequence in GB format for ID XM_016942979.3:\n",
      "AACATTATCTTCATGATCCCTAGTTCTAGACCTCTTTGGTCACTGTAAAA\n",
      "\n",
      "PREDICTED: Pan troglodytes angiotensin converting enzyme 2 (ACE2), transcript variant X1, mRNA\n",
      "The sequence in GB format for ID XM_019019204.3:\n",
      "ATGATCCCTAGTTCTAGACCTCTTTGGTCACTGTAAAATTATAACATTTT\n",
      "\n",
      "PREDICTED: Gorilla gorilla gorilla angiotensin converting enzyme 2 (ACE2), transcript variant X3, mRNA\n",
      "The sequence in GB format for ID XM_063702989.1:\n",
      "CTCTCCAGGATGAACTTTATATTGGCTCAGCAGATTGTTTACTGTGTTCT\n",
      "\n",
      "PREDICTED: Gorilla gorilla gorilla angiotensin converting enzyme 2 (ACE2), transcript variant X2, mRNA\n",
      "The sequence in GB format for ID XM_055376641.1:\n",
      "AAAGGCAGAGGAGAACAAAGGAAGGAGGAAGTAACTTGAGGAATGTTGAG\n",
      "\n",
      "PREDICTED: Gorilla gorilla gorilla angiotensin converting enzyme 2 (ACE2), transcript variant X1, mRNA\n",
      "The sequence in GB format for ID BC048144.1:\n",
      "ATTCAGTGGATGTGATCTTGGCTCACAGGGGACGATGTCAAGCTCTTCCT\n",
      "\n",
      "Homo sapiens angiotensin I converting enzyme (peptidyl-dipeptidase A) 2, mRNA (cDNA clone IMAGE:5297522)\n",
      "The sequence in GB format for ID AF291820.1:\n",
      "ATCTTGGCTCACAGGGGACGATGTCAAGCTCTTCCTGGCTCCTTCTCAGC\n",
      "\n",
      "Homo sapiens ACE-related carboxypeptidase ACE2 mRNA, complete cds\n",
      "Accession number AF291820.1 does not have a summary\n",
      "The sequence in GB format for ID BC032938.1:\n",
      "AGCGGATTCGGTGGATGTGATCTTGGCTCACAGGGGACGATGTCAAGCTC\n",
      "\n",
      "Homo sapiens cDNA clone IMAGE:4830668, containing frame-shift errors\n",
      "The sequence in GB format for ID XM_025372062.1:\n",
      "ACTCATACATACACTCTAGTAATGAGGACACTGAGCTCGCGTCTGAAATT\n",
      "\n",
      "PREDICTED: Theropithecus gelada angiotensin I converting enzyme 2 (ACE2), mRNA\n",
      "The sequence in GB format for ID BC039902.1:\n",
      "CTTGGCTCACAGGGGACGATGTCAAGCTCTTCCTGGCTCCTTCTCAGCCT\n",
      "\n",
      "Homo sapiens angiotensin I converting enzyme (peptidyl-dipeptidase A) 2, mRNA (cDNA clone MGC:47598 IMAGE:5243048), complete cds\n",
      "The sequence in GB format for ID XM_023199053.2:\n",
      "GGCACTCATACATACACTCTGGTAATGAGGACACTGAGCTCGCTTCTGAA\n",
      "\n",
      "PREDICTED: Piliocolobus tephrosceles angiotensin I converting enzyme 2 (ACE2), mRNA\n",
      "The sequence in GB format for ID XM_010366065.2:\n",
      "GGCACTCATACATACACTCTAGTAATGAGGACACTGAGCTCGCTTCTGAA\n",
      "\n",
      "PREDICTED: Rhinopithecus roxellana angiotensin I converting enzyme 2 (ACE2), mRNA\n",
      "The sequence in GB format for ID XM_015126958.2:\n",
      "ACAATCATCGTCAAGTAGGCCCTTGAACCCTGCCATTTAAAGTGCTCCTC\n",
      "\n",
      "PREDICTED: Macaca mulatta angiotensin I converting enzyme 2 (ACE2), transcript variant X1, mRNA\n",
      "The sequence in GB format for ID XM_011995533.1:\n",
      "ACTCATACATACACTCTAGTAATGAGGACACTGAGCTCGCGTCTGAAATT\n",
      "\n",
      "PREDICTED: Mandrillus leucophaeus angiotensin I converting enzyme 2 (ACE2), mRNA\n",
      "The sequence in GB format for ID XM_012035808.1:\n",
      "TACATACACTCTAGTAATGAGGACACTGAGCTCACGTCTGAAATTTAACA\n",
      "\n",
      "PREDICTED: Cercocebus atys angiotensin I converting enzyme 2 (ACE2), transcript variant X1, mRNA\n",
      "The sequence in GB format for ID XM_050777627.1:\n",
      "GTGCTCCTCTCTTTGATCTGTGGCACTCATACATACACTCTAGTAATGAG\n",
      "\n",
      "PREDICTED: Macaca thibetana thibetana angiotensin converting enzyme 2 (ACE2), transcript variant X1, mRNA\n",
      "The sequence in GB format for ID AL110224.1:\n",
      "GGTCAAGCTCTTCCTGGCTCCTTCTCAGCCTTGTTGCTGTAACTGCTGCT\n",
      "\n",
      "Homo sapiens mRNA; cDNA DKFZp434A014 (from clone DKFZp434A014); partial cds\n",
      "The sequence in GB format for ID XM_058441404.1:\n",
      "TTCCACACTTGCACCACCCATGGACCCATCTGTGCCCATCTGGATTATTA\n",
      "\n",
      "PREDICTED: Hylobates moloch angiotensin converting enzyme 2 (ACE2), mRNA\n",
      "The sequence in GB format for ID XM_054543949.1:\n",
      "CTTTCTAGGAAAATATTAACCAAAAGTACCGGTTTTGATTTGGCCATAAA\n",
      "\n",
      "PREDICTED: Pongo abelii angiotensin converting enzyme 2 (ACE2), transcript variant X1, mRNA\n",
      "The sequence in GB format for ID XM_054471966.1:\n",
      "TGCCCAACCCAAGTTCAAAGGCTGATAAGAGAGAAAATCTCATGAGGAGG\n",
      "\n",
      "PREDICTED: Pongo pygmaeus angiotensin converting enzyme 2 (ACE2), transcript variant X1, mRNA\n",
      "The sequence in GB format for ID XM_033200918.1:\n",
      "CTGAGCTCGCTTCTGAAATTTAACAAGATAACCACTAAAATCTCTTTGAA\n",
      "\n",
      "PREDICTED: Trachypithecus francoisi angiotensin I converting enzyme 2 (ACE2), mRNA\n",
      "The sequence in GB format for ID XM_021933040.1:\n",
      "AAAGGAAGGAGGAAGTAACTTGTGGAATGTTGAGAAAGGAAGTTTTATAC\n",
      "\n",
      "PREDICTED: Papio anubis angiotensin I converting enzyme 2 (ACE2), transcript variant X1, mRNA\n",
      "The sequence in GB format for ID XM_012035809.1:\n",
      "GGAATGTTGAGAAAGGAAGTTTTATACCAGGACCTGACCATGATTGGGTG\n",
      "\n",
      "PREDICTED: Cercocebus atys angiotensin I converting enzyme 2 (ACE2), transcript variant X2, mRNA\n",
      "The sequence in GB format for ID XM_011735203.3:\n",
      "TTCAAAGAGGCAAAGGCAGAGGAGAACAAAGGAAGGAGGAAGTAACTTGT\n",
      "\n",
      "PREDICTED: Macaca nemestrina angiotensin converting enzyme 2 (LOC105478157), transcript variant X1, mRNA\n",
      "The sequence in GB format for ID CR857122.1:\n",
      "GAGTCTAGGGAAAGTCATTCAGTGGATGTGATCTTGGCTCACAGGGGACG\n",
      "\n",
      "Pongo abelii mRNA; cDNA DKFZp469K2021 (from clone DKFZp469K2021)\n",
      "The sequence in GB format for ID NM_001131132.2:\n",
      "AGTCTAGGGAAAGTCATTCAGTGGATGTGATCTTGGCTCACAGGGGACGA\n",
      "\n",
      "Pongo abelii angiotensin converting enzyme 2 (ACE2), mRNA\n",
      "The sequence in GB format for ID XM_021933041.2:\n",
      "TACATATCTGTCCTCTCCAGGATGAACTTTATATTGGTTCAGCAGATTGT\n",
      "\n",
      "PREDICTED: Papio anubis angiotensin I converting enzyme 2 (ACE2), transcript variant X2, mRNA\n",
      "The sequence in GB format for ID XM_012035810.1:\n",
      "TGGCCATAAAGTGACAGGAGAGTGCCCAACCCAAGTTCAAAGGCTGATAA\n",
      "\n",
      "PREDICTED: Cercocebus atys angiotensin I converting enzyme 2 (ACE2), transcript variant X3, mRNA\n",
      "The sequence in GB format for ID XM_011735204.3:\n",
      "TTCAAAGAGGCAAAGGCAGAGGAGAACAAAGGAAGGAGGAAGTAACTTGT\n",
      "\n",
      "PREDICTED: Macaca nemestrina angiotensin converting enzyme 2 (LOC105478157), transcript variant X2, mRNA\n",
      "The sequence in GB format for ID XM_012035811.1:\n",
      "GGAATGTTGAGAAAGGAAGTTTTATACCAGGACCTGACCATGATTGGGTG\n",
      "\n",
      "PREDICTED: Cercocebus atys angiotensin I converting enzyme 2 (ACE2), transcript variant X4, mRNA\n",
      "The sequence in GB format for ID XM_050777628.1:\n",
      "ACCGGTTTTGATTTGGCCATAAAGTGACAGGAGAGTGCCCAACCCAAGTT\n",
      "\n",
      "PREDICTED: Macaca thibetana thibetana angiotensin converting enzyme 2 (ACE2), transcript variant X2, mRNA\n",
      "The sequence in GB format for ID XM_037986357.2:\n",
      "TTTTGATTTGGCCATAAAGTGACAGGAGAGTGCCCAACCCAAGTTCAAAG\n",
      "\n",
      "PREDICTED: Chlorocebus sabaeus angiotensin converting enzyme 2 (ACE2), mRNA\n",
      "The sequence in GB format for ID XM_005593037.4:\n",
      "AGTCTAGGGAAAGTCATTCAGTGGATGTGATCTTGGCTCACAGGGGACGA\n",
      "\n",
      "PREDICTED: Macaca fascicularis angiotensin converting enzyme 2 (ACE2), mRNA\n",
      "The sequence in GB format for ID XM_028841825.1:\n",
      "CACAATCATCGTCAAGTAGGCCCTTGAACCCTGCCATTTAAAGTGCTCCT\n",
      "\n",
      "PREDICTED: Macaca mulatta angiotensin I converting enzyme 2 (ACE2), transcript variant X2, mRNA\n",
      "The sequence in GB format for ID XM_050777629.1:\n",
      "GTGCTCCTCTCTTTGATCTGTGGCACTCATACATACACTCTAGTAATGAG\n",
      "\n",
      "PREDICTED: Macaca thibetana thibetana angiotensin converting enzyme 2 (ACE2), transcript variant X3, mRNA\n",
      "The sequence in GB format for ID XM_010336623.2:\n",
      "TATTGGTTCAGCAGATTGTTTACTGTGTTCTTCTTCTTTTCTTTTTTTGG\n",
      "\n",
      "PREDICTED: Saimiri boliviensis boliviensis angiotensin converting enzyme 2 (ACE2), transcript variant X1, mRNA\n",
      "The sequence in GB format for ID XM_032285963.1:\n",
      "TATTGGTTCAGAAGATTGTTTACTGTGTTCTTCTTCTTTTCTTTTTTTGG\n",
      "\n",
      "PREDICTED: Sapajus apella angiotensin I converting enzyme 2 (ACE2), transcript variant X1, mRNA\n",
      "The sequence in GB format for ID XM_017512376.2:\n",
      "TTTTCTTTTTTTGGTCCTTCCTGCTCAGTGCCCAACCCAAGTTCAAAGGC\n",
      "\n",
      "PREDICTED: Cebus imitator angiotensin I converting enzyme 2 (ACE2), transcript variant X1, mRNA\n",
      "The sequence in GB format for ID XM_012434682.3:\n",
      "AAATTATTCTAAAATCTGTTACATATCTGTCTTCTCCAGGATGAACTTTA\n",
      "\n",
      "PREDICTED: Aotus nancymaae angiotensin converting enzyme 2 (ACE2), mRNA\n",
      "The sequence in GB format for ID XM_017888581.1:\n",
      "TGCTGGGGACAAATGGTCTGCCTTTTTAAAAGAACAGTCCACACTTGCCC\n",
      "\n",
      "PREDICTED: Rhinopithecus bieti angiotensin I converting enzyme 2 (ACE2), transcript variant X2, mRNA\n",
      "The sequence in GB format for ID XM_017888580.1:\n",
      "TGCTGGGGACAAATGGTCTGCCTTTTTAAAAGAACAGTCCACACTTGCCC\n",
      "\n",
      "PREDICTED: Rhinopithecus bieti angiotensin I converting enzyme 2 (ACE2), transcript variant X1, mRNA\n"
     ]
    }
   ],
   "execution_count": 8
  },
  {
   "metadata": {},
   "cell_type": "code",
   "outputs": [],
   "execution_count": null,
   "source": "",
   "id": "294cafdbc7f372f0"
  },
  {
   "metadata": {},
   "cell_type": "code",
   "outputs": [],
   "execution_count": null,
   "source": "",
   "id": "ecc207bc794056f3"
  },
  {
   "metadata": {},
   "cell_type": "markdown",
   "source": [
    "# Embed the sequences and their summaries using openAIembeddings\n",
    "\n",
    "---"
   ],
   "id": "5a25f3fd5fad3f60"
  },
  {
   "metadata": {
    "ExecuteTime": {
     "end_time": "2025-05-04T19:48:28.016577Z",
     "start_time": "2025-05-04T19:48:27.995538Z"
    }
   },
   "cell_type": "code",
   "source": "print(processed_stream)",
   "id": "2e6b3022f331d919",
   "outputs": [
    {
     "name": "stdout",
     "output_type": "stream",
     "text": [
      "             title                                           sequence  \\\n",
      "0      NM_021804.3  (G, G, C, A, C, T, C, A, T, A, C, A, T, A, C, ...   \n",
      "1       AB193259.1  (A, C, T, C, A, T, A, C, A, T, A, C, A, C, T, ...   \n",
      "2   XM_055376642.1  (G, G, C, A, C, T, C, A, T, A, C, A, T, A, C, ...   \n",
      "3   XM_063634561.1  (G, G, C, A, C, T, C, A, T, A, C, A, T, A, C, ...   \n",
      "4   XM_003261084.3  (G, G, C, A, C, T, C, A, T, A, C, A, T, A, C, ...   \n",
      "5       AB193260.1  (T, A, T, T, G, G, C, T, C, A, G, C, A, G, A, ...   \n",
      "6       AF241254.1  (C, G, C, C, C, A, A, C, C, C, A, A, G, T, T, ...   \n",
      "7   XM_008974180.3  (A, C, T, G, T, G, T, T, C, T, T, C, T, T, C, ...   \n",
      "8   NM_001371415.1  (A, G, T, C, T, A, G, G, G, A, A, A, G, T, C, ...   \n",
      "9       BC059378.1  (A, G, T, C, T, A, G, G, G, A, A, A, G, T, C, ...   \n",
      "10  XM_016942979.3  (A, A, C, A, T, T, A, T, C, T, T, C, A, T, G, ...   \n",
      "11  XM_019019204.3  (A, T, G, A, T, C, C, C, T, A, G, T, T, C, T, ...   \n",
      "12  XM_063702989.1  (C, T, C, T, C, C, A, G, G, A, T, G, A, A, C, ...   \n",
      "13  XM_055376641.1  (A, A, A, G, G, C, A, G, A, G, G, A, G, A, A, ...   \n",
      "14      BC048144.1  (A, T, T, C, A, G, T, G, G, A, T, G, T, G, A, ...   \n",
      "15      AF291820.1  (A, T, C, T, T, G, G, C, T, C, A, C, A, G, G, ...   \n",
      "16      BC032938.1  (A, G, C, G, G, A, T, T, C, G, G, T, G, G, A, ...   \n",
      "17  XM_025372062.1  (A, C, T, C, A, T, A, C, A, T, A, C, A, C, T, ...   \n",
      "18      BC039902.1  (C, T, T, G, G, C, T, C, A, C, A, G, G, G, G, ...   \n",
      "19  XM_023199053.2  (G, G, C, A, C, T, C, A, T, A, C, A, T, A, C, ...   \n",
      "20  XM_010366065.2  (G, G, C, A, C, T, C, A, T, A, C, A, T, A, C, ...   \n",
      "21  XM_015126958.2  (A, C, A, A, T, C, A, T, C, G, T, C, A, A, G, ...   \n",
      "22  XM_011995533.1  (A, C, T, C, A, T, A, C, A, T, A, C, A, C, T, ...   \n",
      "23  XM_012035808.1  (T, A, C, A, T, A, C, A, C, T, C, T, A, G, T, ...   \n",
      "24  XM_050777627.1  (G, T, G, C, T, C, C, T, C, T, C, T, T, T, G, ...   \n",
      "25      AL110224.1  (G, G, T, C, A, A, G, C, T, C, T, T, C, C, T, ...   \n",
      "26  XM_058441404.1  (T, T, C, C, A, C, A, C, T, T, G, C, A, C, C, ...   \n",
      "27  XM_054543949.1  (C, T, T, T, C, T, A, G, G, A, A, A, A, T, A, ...   \n",
      "28  XM_054471966.1  (T, G, C, C, C, A, A, C, C, C, A, A, G, T, T, ...   \n",
      "29  XM_033200918.1  (C, T, G, A, G, C, T, C, G, C, T, T, C, T, G, ...   \n",
      "30  XM_021933040.1  (A, A, A, G, G, A, A, G, G, A, G, G, A, A, G, ...   \n",
      "31  XM_012035809.1  (G, G, A, A, T, G, T, T, G, A, G, A, A, A, G, ...   \n",
      "32  XM_011735203.3  (T, T, C, A, A, A, G, A, G, G, C, A, A, A, G, ...   \n",
      "33      CR857122.1  (G, A, G, T, C, T, A, G, G, G, A, A, A, G, T, ...   \n",
      "34  NM_001131132.2  (A, G, T, C, T, A, G, G, G, A, A, A, G, T, C, ...   \n",
      "35  XM_021933041.2  (T, A, C, A, T, A, T, C, T, G, T, C, C, T, C, ...   \n",
      "36  XM_012035810.1  (T, G, G, C, C, A, T, A, A, A, G, T, G, A, C, ...   \n",
      "37  XM_011735204.3  (T, T, C, A, A, A, G, A, G, G, C, A, A, A, G, ...   \n",
      "38  XM_012035811.1  (G, G, A, A, T, G, T, T, G, A, G, A, A, A, G, ...   \n",
      "39  XM_050777628.1  (A, C, C, G, G, T, T, T, T, G, A, T, T, T, G, ...   \n",
      "40  XM_037986357.2  (T, T, T, T, G, A, T, T, T, G, G, C, C, A, T, ...   \n",
      "41  XM_005593037.4  (A, G, T, C, T, A, G, G, G, A, A, A, G, T, C, ...   \n",
      "42  XM_028841825.1  (C, A, C, A, A, T, C, A, T, C, G, T, C, A, A, ...   \n",
      "43  XM_050777629.1  (G, T, G, C, T, C, C, T, C, T, C, T, T, T, G, ...   \n",
      "44  XM_010336623.2  (T, A, T, T, G, G, T, T, C, A, G, C, A, G, A, ...   \n",
      "45  XM_032285963.1  (T, A, T, T, G, G, T, T, C, A, G, A, A, G, A, ...   \n",
      "46  XM_017512376.2  (T, T, T, T, C, T, T, T, T, T, T, T, G, G, T, ...   \n",
      "47  XM_012434682.3  (A, A, A, T, T, A, T, T, C, T, A, A, A, A, T, ...   \n",
      "48  XM_017888581.1  (T, G, C, T, G, G, G, G, A, C, A, A, A, T, G, ...   \n",
      "49  XM_017888580.1  (T, G, C, T, G, G, G, G, A, C, A, A, A, T, G, ...   \n",
      "\n",
      "                                              summary  length  e_value  \\\n",
      "0   REVIEWED REFSEQ: This record has been curated ...    3596      0.0   \n",
      "1   There is no summary provided for accession no....    3605      0.0   \n",
      "2   MODEL REFSEQ:  This record is predicted by aut...    3596      0.0   \n",
      "3   MODEL REFSEQ:  This record is predicted by aut...    3597      0.0   \n",
      "4   MODEL REFSEQ:  This record is predicted by aut...    3593      0.0   \n",
      "5   There is no summary provided for accession no....    3470      0.0   \n",
      "6   There is no summary provided for accession no....    3405      0.0   \n",
      "7   MODEL REFSEQ:  This record is predicted by aut...    6570      0.0   \n",
      "8   REVIEWED REFSEQ: This record has been curated ...    3339      0.0   \n",
      "9   Contact: MGC help desk\\nEmail: cgapbs-r@mail.n...    3375      0.0   \n",
      "10  MODEL REFSEQ:  This record is predicted by aut...    3540      0.0   \n",
      "11  MODEL REFSEQ:  This record is predicted by aut...    3522      0.0   \n",
      "12  MODEL REFSEQ:  This record is predicted by aut...    3477      0.0   \n",
      "13  MODEL REFSEQ:  This record is predicted by aut...    3577      0.0   \n",
      "14  Contact: MGC help desk\\nEmail: cgapbs-r@mail.n...    3339      0.0   \n",
      "15  There is no summary provided for accession no....    3325      0.0   \n",
      "16  Contact: MGC help desk\\nEmail: cgapbs-r@mail.n...    3337      0.0   \n",
      "17  MODEL REFSEQ:  This record is predicted by aut...    3592      0.0   \n",
      "18  Contact: MGC help desk\\nEmail: cgapbs-r@mail.n...    3348      0.0   \n",
      "19  MODEL REFSEQ:  This record is predicted by aut...    3595      0.0   \n",
      "20  MODEL REFSEQ:  This record is predicted by aut...    3590      0.0   \n",
      "21  MODEL REFSEQ:  This record is predicted by aut...    3661      0.0   \n",
      "22  MODEL REFSEQ:  This record is predicted by aut...    3592      0.0   \n",
      "23  MODEL REFSEQ:  This record is predicted by aut...    3587      0.0   \n",
      "24  MODEL REFSEQ:  This record is predicted by aut...    3616      0.0   \n",
      "25  Clone from S. Wiemann, Molecular Genome Analys...    3341      0.0   \n",
      "26  MODEL REFSEQ:  This record is predicted by aut...    3523      0.0   \n",
      "27  MODEL REFSEQ:  This record is predicted by aut...    3770      0.0   \n",
      "28  MODEL REFSEQ:  This record is predicted by aut...    3395      0.0   \n",
      "29  MODEL REFSEQ:  This record is predicted by aut...    3557      0.0   \n",
      "30  MODEL REFSEQ:  This record is predicted by aut...    3650      0.0   \n",
      "31  MODEL REFSEQ:  This record is predicted by aut...    3625      0.0   \n",
      "32  MODEL REFSEQ:  This record is predicted by aut...    4791      0.0   \n",
      "33  Clone from S. Wiemann, Molecular Genome Analys...    3669      0.0   \n",
      "34  PROVISIONAL REFSEQ: This record has not yet be...    3668      0.0   \n",
      "35  MODEL REFSEQ:  This record is predicted by aut...    3487      0.0   \n",
      "36  MODEL REFSEQ:  This record is predicted by aut...    3414      0.0   \n",
      "37  MODEL REFSEQ:  This record is predicted by aut...    4701      0.0   \n",
      "38  MODEL REFSEQ:  This record is predicted by aut...    3535      0.0   \n",
      "39  MODEL REFSEQ:  This record is predicted by aut...    3427      0.0   \n",
      "40  MODEL REFSEQ:  This record is predicted by aut...    3422      0.0   \n",
      "41  MODEL REFSEQ:  This record is predicted by aut...    3338      0.0   \n",
      "42  MODEL REFSEQ:  This record is predicted by aut...    3565      0.0   \n",
      "43  MODEL REFSEQ:  This record is predicted by aut...    3519      0.0   \n",
      "44  MODEL REFSEQ:  This record is predicted by aut...    3455      0.0   \n",
      "45  MODEL REFSEQ:  This record is predicted by aut...    3451      0.0   \n",
      "46  MODEL REFSEQ:  This record is predicted by aut...    3415      0.0   \n",
      "47  MODEL REFSEQ:  This record is predicted by aut...    3496      0.0   \n",
      "48  MODEL REFSEQ:  This record is predicted by aut...    3093      0.0   \n",
      "49  MODEL REFSEQ:  This record is predicted by aut...    3090      0.0   \n",
      "\n",
      "     score  query_start  query_end  \n",
      "0   7192.0            1       3596  \n",
      "1   7186.0            4       3596  \n",
      "2   7047.0            1       3596  \n",
      "3   6860.0            1       3596  \n",
      "4   6860.0            1       3596  \n",
      "5   6790.0          202       3596  \n",
      "6   6786.0          204       3596  \n",
      "7   6686.0          202       3596  \n",
      "8   6678.0          258       3596  \n",
      "9   6669.0          258       3594  \n",
      "10  6657.0          202       3596  \n",
      "11  6655.0          202       3596  \n",
      "12  6655.0          202       3596  \n",
      "13  6654.0          200       3596  \n",
      "14  6634.0          273       3596  \n",
      "15  6620.0          287       3596  \n",
      "16  6614.0          273       3591  \n",
      "17  6612.0            4       3596  \n",
      "18  6610.0          289       3593  \n",
      "19  6603.0            1       3596  \n",
      "20  6578.0            1       3596  \n",
      "21  6573.0            1       3596  \n",
      "22  6572.0            4       3596  \n",
      "23  6572.0            9       3596  \n",
      "24  6563.0            1       3596  \n",
      "25  6561.0          309       3591  \n",
      "26  6505.0          202       3596  \n",
      "27  6501.0          202       3596  \n",
      "28  6490.0          205       3596  \n",
      "29  6466.0           34       3596  \n",
      "30  6429.0          113       3596  \n",
      "31  6399.0          113       3596  \n",
      "32  6389.0          113       3596  \n",
      "33  6379.0          258       3596  \n",
      "34  6379.0          258       3596  \n",
      "35  6271.0          202       3596  \n",
      "36  6241.0          202       3596  \n",
      "37  6240.0          205       3596  \n",
      "38  6240.0          205       3596  \n",
      "39  6226.0          202       3596  \n",
      "40  6196.0          202       3596  \n",
      "41  6134.0          258       3596  \n",
      "42  6047.0          299       3596  \n",
      "43  6042.0          299       3596  \n",
      "44  5740.0          202       3589  \n",
      "45  5739.0          202       3589  \n",
      "46  5715.0          202       3589  \n",
      "47  5672.0          202       3596  \n",
      "48  5649.0          498       3596  \n",
      "49  5622.0          498       3596  \n"
     ]
    }
   ],
   "execution_count": 9
  },
  {
   "metadata": {
    "ExecuteTime": {
     "end_time": "2025-05-04T19:49:16.205792Z",
     "start_time": "2025-05-04T19:49:11.845418Z"
    }
   },
   "cell_type": "code",
   "source": "import torch",
   "id": "ebe11e580e8c6b14",
   "outputs": [],
   "execution_count": 10
  },
  {
   "metadata": {
    "ExecuteTime": {
     "end_time": "2025-05-04T19:49:44.588980Z",
     "start_time": "2025-05-04T19:49:26.955788Z"
    }
   },
   "cell_type": "code",
   "source": "from transformers import AutoTokenizer, AutoModel",
   "id": "eecdf3c652a3ec24",
   "outputs": [],
   "execution_count": 11
  },
  {
   "metadata": {
    "ExecuteTime": {
     "end_time": "2025-05-04T19:50:18.641742Z",
     "start_time": "2025-05-04T19:50:18.118964Z"
    }
   },
   "cell_type": "code",
   "source": "tokenizer = AutoTokenizer.from_pretrained(\"zhihan1996/DNABERT-2-117M\", trust_remote_code=True)",
   "id": "5f8600bc11ee6cad",
   "outputs": [
    {
     "data": {
      "text/plain": [
       "tokenizer_config.json:   0%|          | 0.00/158 [00:00<?, ?B/s]"
      ],
      "application/vnd.jupyter.widget-view+json": {
       "version_major": 2,
       "version_minor": 0,
       "model_id": "974ee6fb87f74e899bdef80ec9a0f8ef"
      }
     },
     "metadata": {},
     "output_type": "display_data"
    },
    {
     "data": {
      "text/plain": [
       "tokenizer.json:   0%|          | 0.00/168k [00:00<?, ?B/s]"
      ],
      "application/vnd.jupyter.widget-view+json": {
       "version_major": 2,
       "version_minor": 0,
       "model_id": "db6591063ed748d785e43932cad30597"
      }
     },
     "metadata": {},
     "output_type": "display_data"
    }
   ],
   "execution_count": 12
  },
  {
   "metadata": {
    "ExecuteTime": {
     "end_time": "2025-05-04T19:52:38.333593Z",
     "start_time": "2025-05-04T19:51:51.534911Z"
    }
   },
   "cell_type": "code",
   "source": "model = AutoModel.from_pretrained(\"zhihan1996/DNABERT-2-117M\", trust_remote_code=True)",
   "id": "a8b0a619ad3c6c1a",
   "outputs": [
    {
     "data": {
      "text/plain": [
       "flash_attn_triton.py:   0%|          | 0.00/42.7k [00:00<?, ?B/s]"
      ],
      "application/vnd.jupyter.widget-view+json": {
       "version_major": 2,
       "version_minor": 0,
       "model_id": "95e9582b78dd4d40b48e3d9506f414aa"
      }
     },
     "metadata": {},
     "output_type": "display_data"
    },
    {
     "name": "stderr",
     "output_type": "stream",
     "text": [
      "A new version of the following files was downloaded from https://huggingface.co/zhihan1996/DNABERT-2-117M:\n",
      "- flash_attn_triton.py\n",
      ". Make sure to double-check they do not contain any added malicious code. To avoid downloading new versions of the code file, you can pin a revision.\n"
     ]
    },
    {
     "data": {
      "text/plain": [
       "bert_padding.py:   0%|          | 0.00/6.10k [00:00<?, ?B/s]"
      ],
      "application/vnd.jupyter.widget-view+json": {
       "version_major": 2,
       "version_minor": 0,
       "model_id": "2b8dd6b8f0d74cb2830ccb303ae7cec5"
      }
     },
     "metadata": {},
     "output_type": "display_data"
    },
    {
     "name": "stderr",
     "output_type": "stream",
     "text": [
      "A new version of the following files was downloaded from https://huggingface.co/zhihan1996/DNABERT-2-117M:\n",
      "- bert_padding.py\n",
      ". Make sure to double-check they do not contain any added malicious code. To avoid downloading new versions of the code file, you can pin a revision.\n",
      "A new version of the following files was downloaded from https://huggingface.co/zhihan1996/DNABERT-2-117M:\n",
      "- flash_attn_triton.py\n",
      "- bert_padding.py\n",
      ". Make sure to double-check they do not contain any added malicious code. To avoid downloading new versions of the code file, you can pin a revision.\n"
     ]
    },
    {
     "data": {
      "text/plain": [
       "pytorch_model.bin:   0%|          | 0.00/468M [00:00<?, ?B/s]"
      ],
      "application/vnd.jupyter.widget-view+json": {
       "version_major": 2,
       "version_minor": 0,
       "model_id": "4412fa3896c441a388cd483c38097d57"
      }
     },
     "metadata": {},
     "output_type": "display_data"
    },
    {
     "name": "stderr",
     "output_type": "stream",
     "text": [
      "/Users/owenrogers/.cache/huggingface/modules/transformers_modules/zhihan1996/DNABERT-2-117M/d064dece8a8b41d9fb8729fbe3435278786931f1/bert_layers.py:126: UserWarning: Unable to import Triton; defaulting MosaicBERT attention implementation to pytorch (this will reduce throughput when using this model).\n",
      "  warnings.warn(\n",
      "Some weights of BertModel were not initialized from the model checkpoint at zhihan1996/DNABERT-2-117M and are newly initialized: ['bert.pooler.dense.bias', 'bert.pooler.dense.weight']\n",
      "You should probably TRAIN this model on a down-stream task to be able to use it for predictions and inference.\n"
     ]
    }
   ],
   "execution_count": 14
  },
  {
   "metadata": {},
   "cell_type": "code",
   "outputs": [],
   "execution_count": null,
   "source": "",
   "id": "8e03797e882b5c7"
  }
 ],
 "metadata": {
  "kernelspec": {
   "display_name": "Python 3",
   "language": "python",
   "name": "python3"
  },
  "language_info": {
   "codemirror_mode": {
    "name": "ipython",
    "version": 2
   },
   "file_extension": ".py",
   "mimetype": "text/x-python",
   "name": "python",
   "nbconvert_exporter": "python",
   "pygments_lexer": "ipython2",
   "version": "2.7.6"
  }
 },
 "nbformat": 4,
 "nbformat_minor": 5
}
